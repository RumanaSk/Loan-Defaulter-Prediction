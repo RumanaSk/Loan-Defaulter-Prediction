{
  "nbformat": 4,
  "nbformat_minor": 0,
  "metadata": {
    "colab": {
      "name": "loan defaulter AWS.ipynb",
      "provenance": [],
      "collapsed_sections": [],
      "machine_shape": "hm"
    },
    "kernelspec": {
      "name": "python3",
      "display_name": "Python 3"
    }
  },
  "cells": [
    {
      "cell_type": "code",
      "metadata": {
        "id": "9Gwt4svHY5wq",
        "colab_type": "code",
        "outputId": "293dcd6c-9fba-4a84-fdbc-1485d89b857d",
        "colab": {
          "base_uri": "https://localhost:8080/",
          "height": 122
        }
      },
      "source": [
        "from google.colab import drive\n",
        "drive.mount('/content/drive')"
      ],
      "execution_count": 0,
      "outputs": [
        {
          "output_type": "stream",
          "text": [
            "Go to this URL in a browser: https://accounts.google.com/o/oauth2/auth?client_id=947318989803-6bn6qk8qdgf4n4g3pfee6491hc0brc4i.apps.googleusercontent.com&redirect_uri=urn%3aietf%3awg%3aoauth%3a2.0%3aoob&response_type=code&scope=email%20https%3a%2f%2fwww.googleapis.com%2fauth%2fdocs.test%20https%3a%2f%2fwww.googleapis.com%2fauth%2fdrive%20https%3a%2f%2fwww.googleapis.com%2fauth%2fdrive.photos.readonly%20https%3a%2f%2fwww.googleapis.com%2fauth%2fpeopleapi.readonly\n",
            "\n",
            "Enter your authorization code:\n",
            "··········\n",
            "Mounted at /content/drive\n"
          ],
          "name": "stdout"
        }
      ]
    },
    {
      "cell_type": "code",
      "metadata": {
        "id": "OENpwzUBY887",
        "colab_type": "code",
        "outputId": "739b85f0-8937-4e6b-b2e3-8b1dbb5c196b",
        "colab": {
          "base_uri": "https://localhost:8080/",
          "height": 34
        }
      },
      "source": [
        "!ls /content/drive/\"My Drive/loan defaulter Aws\""
      ],
      "execution_count": 0,
      "outputs": [
        {
          "output_type": "stream",
          "text": [
            "final.csv  test_bqCt9Pv.csv  train.csv\n"
          ],
          "name": "stdout"
        }
      ]
    },
    {
      "cell_type": "markdown",
      "metadata": {
        "id": "_H9D72Oddeaz",
        "colab_type": "text"
      },
      "source": [
        "**Importing the necessary modules**"
      ]
    },
    {
      "cell_type": "code",
      "metadata": {
        "id": "uBHxPf50at41",
        "colab_type": "code",
        "colab": {}
      },
      "source": [
        "import numpy as np\n",
        "import pandas as pd\n",
        "import seaborn as sns\n",
        "import matplotlib.pyplot as plt\n",
        "from sklearn.preprocessing import LabelEncoder\n",
        "from sklearn.ensemble import RandomForestClassifier\n",
        "from sklearn.model_selection import train_test_split\n",
        "from sklearn.metrics import accuracy_score, precision_score, recall_score, f1_score, confusion_matrix\n",
        "import sklearn.metrics as metrics\n",
        "from sklearn.metrics import roc_curve\n",
        "from sklearn.metrics import auc\n",
        "from sklearn.metrics import roc_auc_score\n",
        "from sklearn.model_selection import GridSearchCV\n",
        "from datetime import datetime\n",
        "from datetime import date"
      ],
      "execution_count": 0,
      "outputs": []
    },
    {
      "cell_type": "markdown",
      "metadata": {
        "id": "B4myxsdBdnka",
        "colab_type": "text"
      },
      "source": [
        "**Uploading and reading the train and test data files**"
      ]
    },
    {
      "cell_type": "code",
      "metadata": {
        "id": "3fHMO4kQaa1c",
        "colab_type": "code",
        "colab": {}
      },
      "source": [
        "df = pd.read_csv('drive/My Drive/loan defaulter Aws/train.csv')\n",
        "df_test = pd.read_csv('drive/My Drive/loan defaulter Aws/test_bqCt9Pv.csv')"
      ],
      "execution_count": 0,
      "outputs": []
    },
    {
      "cell_type": "code",
      "metadata": {
        "id": "FnPrN27Rarjg",
        "colab_type": "code",
        "outputId": "a619b954-083e-4339-93c0-43cb7e0988be",
        "colab": {
          "base_uri": "https://localhost:8080/",
          "height": 224
        }
      },
      "source": [
        "df.head()"
      ],
      "execution_count": 0,
      "outputs": [
        {
          "output_type": "execute_result",
          "data": {
            "text/html": [
              "<div>\n",
              "<style scoped>\n",
              "    .dataframe tbody tr th:only-of-type {\n",
              "        vertical-align: middle;\n",
              "    }\n",
              "\n",
              "    .dataframe tbody tr th {\n",
              "        vertical-align: top;\n",
              "    }\n",
              "\n",
              "    .dataframe thead th {\n",
              "        text-align: right;\n",
              "    }\n",
              "</style>\n",
              "<table border=\"1\" class=\"dataframe\">\n",
              "  <thead>\n",
              "    <tr style=\"text-align: right;\">\n",
              "      <th></th>\n",
              "      <th>UniqueID</th>\n",
              "      <th>disbursed_amount</th>\n",
              "      <th>asset_cost</th>\n",
              "      <th>ltv</th>\n",
              "      <th>branch_id</th>\n",
              "      <th>supplier_id</th>\n",
              "      <th>manufacturer_id</th>\n",
              "      <th>Current_pincode_ID</th>\n",
              "      <th>Date.of.Birth</th>\n",
              "      <th>Employment.Type</th>\n",
              "      <th>DisbursalDate</th>\n",
              "      <th>State_ID</th>\n",
              "      <th>Employee_code_ID</th>\n",
              "      <th>MobileNo_Avl_Flag</th>\n",
              "      <th>Aadhar_flag</th>\n",
              "      <th>PAN_flag</th>\n",
              "      <th>VoterID_flag</th>\n",
              "      <th>Driving_flag</th>\n",
              "      <th>Passport_flag</th>\n",
              "      <th>PERFORM_CNS.SCORE</th>\n",
              "      <th>PERFORM_CNS.SCORE.DESCRIPTION</th>\n",
              "      <th>PRI.NO.OF.ACCTS</th>\n",
              "      <th>PRI.ACTIVE.ACCTS</th>\n",
              "      <th>PRI.OVERDUE.ACCTS</th>\n",
              "      <th>PRI.CURRENT.BALANCE</th>\n",
              "      <th>PRI.SANCTIONED.AMOUNT</th>\n",
              "      <th>PRI.DISBURSED.AMOUNT</th>\n",
              "      <th>SEC.NO.OF.ACCTS</th>\n",
              "      <th>SEC.ACTIVE.ACCTS</th>\n",
              "      <th>SEC.OVERDUE.ACCTS</th>\n",
              "      <th>SEC.CURRENT.BALANCE</th>\n",
              "      <th>SEC.SANCTIONED.AMOUNT</th>\n",
              "      <th>SEC.DISBURSED.AMOUNT</th>\n",
              "      <th>PRIMARY.INSTAL.AMT</th>\n",
              "      <th>SEC.INSTAL.AMT</th>\n",
              "      <th>NEW.ACCTS.IN.LAST.SIX.MONTHS</th>\n",
              "      <th>DELINQUENT.ACCTS.IN.LAST.SIX.MONTHS</th>\n",
              "      <th>AVERAGE.ACCT.AGE</th>\n",
              "      <th>CREDIT.HISTORY.LENGTH</th>\n",
              "      <th>NO.OF_INQUIRIES</th>\n",
              "      <th>loan_default</th>\n",
              "    </tr>\n",
              "  </thead>\n",
              "  <tbody>\n",
              "    <tr>\n",
              "      <th>0</th>\n",
              "      <td>420825</td>\n",
              "      <td>50578</td>\n",
              "      <td>58400</td>\n",
              "      <td>89.55</td>\n",
              "      <td>67</td>\n",
              "      <td>22807</td>\n",
              "      <td>45</td>\n",
              "      <td>1441</td>\n",
              "      <td>01-01-84</td>\n",
              "      <td>Salaried</td>\n",
              "      <td>03-08-18</td>\n",
              "      <td>6</td>\n",
              "      <td>1998</td>\n",
              "      <td>1</td>\n",
              "      <td>1</td>\n",
              "      <td>0</td>\n",
              "      <td>0</td>\n",
              "      <td>0</td>\n",
              "      <td>0</td>\n",
              "      <td>0</td>\n",
              "      <td>No Bureau History Available</td>\n",
              "      <td>0</td>\n",
              "      <td>0</td>\n",
              "      <td>0</td>\n",
              "      <td>0</td>\n",
              "      <td>0</td>\n",
              "      <td>0</td>\n",
              "      <td>0</td>\n",
              "      <td>0</td>\n",
              "      <td>0</td>\n",
              "      <td>0</td>\n",
              "      <td>0</td>\n",
              "      <td>0</td>\n",
              "      <td>0</td>\n",
              "      <td>0</td>\n",
              "      <td>0</td>\n",
              "      <td>0</td>\n",
              "      <td>0yrs 0mon</td>\n",
              "      <td>0yrs 0mon</td>\n",
              "      <td>0</td>\n",
              "      <td>0</td>\n",
              "    </tr>\n",
              "    <tr>\n",
              "      <th>1</th>\n",
              "      <td>537409</td>\n",
              "      <td>47145</td>\n",
              "      <td>65550</td>\n",
              "      <td>73.23</td>\n",
              "      <td>67</td>\n",
              "      <td>22807</td>\n",
              "      <td>45</td>\n",
              "      <td>1502</td>\n",
              "      <td>31-07-85</td>\n",
              "      <td>Self employed</td>\n",
              "      <td>26-09-18</td>\n",
              "      <td>6</td>\n",
              "      <td>1998</td>\n",
              "      <td>1</td>\n",
              "      <td>1</td>\n",
              "      <td>0</td>\n",
              "      <td>0</td>\n",
              "      <td>0</td>\n",
              "      <td>0</td>\n",
              "      <td>598</td>\n",
              "      <td>I-Medium Risk</td>\n",
              "      <td>1</td>\n",
              "      <td>1</td>\n",
              "      <td>1</td>\n",
              "      <td>27600</td>\n",
              "      <td>50200</td>\n",
              "      <td>50200</td>\n",
              "      <td>0</td>\n",
              "      <td>0</td>\n",
              "      <td>0</td>\n",
              "      <td>0</td>\n",
              "      <td>0</td>\n",
              "      <td>0</td>\n",
              "      <td>1991</td>\n",
              "      <td>0</td>\n",
              "      <td>0</td>\n",
              "      <td>1</td>\n",
              "      <td>1yrs 11mon</td>\n",
              "      <td>1yrs 11mon</td>\n",
              "      <td>0</td>\n",
              "      <td>1</td>\n",
              "    </tr>\n",
              "    <tr>\n",
              "      <th>2</th>\n",
              "      <td>417566</td>\n",
              "      <td>53278</td>\n",
              "      <td>61360</td>\n",
              "      <td>89.63</td>\n",
              "      <td>67</td>\n",
              "      <td>22807</td>\n",
              "      <td>45</td>\n",
              "      <td>1497</td>\n",
              "      <td>24-08-85</td>\n",
              "      <td>Self employed</td>\n",
              "      <td>01-08-18</td>\n",
              "      <td>6</td>\n",
              "      <td>1998</td>\n",
              "      <td>1</td>\n",
              "      <td>1</td>\n",
              "      <td>0</td>\n",
              "      <td>0</td>\n",
              "      <td>0</td>\n",
              "      <td>0</td>\n",
              "      <td>0</td>\n",
              "      <td>No Bureau History Available</td>\n",
              "      <td>0</td>\n",
              "      <td>0</td>\n",
              "      <td>0</td>\n",
              "      <td>0</td>\n",
              "      <td>0</td>\n",
              "      <td>0</td>\n",
              "      <td>0</td>\n",
              "      <td>0</td>\n",
              "      <td>0</td>\n",
              "      <td>0</td>\n",
              "      <td>0</td>\n",
              "      <td>0</td>\n",
              "      <td>0</td>\n",
              "      <td>0</td>\n",
              "      <td>0</td>\n",
              "      <td>0</td>\n",
              "      <td>0yrs 0mon</td>\n",
              "      <td>0yrs 0mon</td>\n",
              "      <td>0</td>\n",
              "      <td>0</td>\n",
              "    </tr>\n",
              "    <tr>\n",
              "      <th>3</th>\n",
              "      <td>624493</td>\n",
              "      <td>57513</td>\n",
              "      <td>66113</td>\n",
              "      <td>88.48</td>\n",
              "      <td>67</td>\n",
              "      <td>22807</td>\n",
              "      <td>45</td>\n",
              "      <td>1501</td>\n",
              "      <td>30-12-93</td>\n",
              "      <td>Self employed</td>\n",
              "      <td>26-10-18</td>\n",
              "      <td>6</td>\n",
              "      <td>1998</td>\n",
              "      <td>1</td>\n",
              "      <td>1</td>\n",
              "      <td>0</td>\n",
              "      <td>0</td>\n",
              "      <td>0</td>\n",
              "      <td>0</td>\n",
              "      <td>305</td>\n",
              "      <td>L-Very High Risk</td>\n",
              "      <td>3</td>\n",
              "      <td>0</td>\n",
              "      <td>0</td>\n",
              "      <td>0</td>\n",
              "      <td>0</td>\n",
              "      <td>0</td>\n",
              "      <td>0</td>\n",
              "      <td>0</td>\n",
              "      <td>0</td>\n",
              "      <td>0</td>\n",
              "      <td>0</td>\n",
              "      <td>0</td>\n",
              "      <td>31</td>\n",
              "      <td>0</td>\n",
              "      <td>0</td>\n",
              "      <td>0</td>\n",
              "      <td>0yrs 8mon</td>\n",
              "      <td>1yrs 3mon</td>\n",
              "      <td>1</td>\n",
              "      <td>1</td>\n",
              "    </tr>\n",
              "    <tr>\n",
              "      <th>4</th>\n",
              "      <td>539055</td>\n",
              "      <td>52378</td>\n",
              "      <td>60300</td>\n",
              "      <td>88.39</td>\n",
              "      <td>67</td>\n",
              "      <td>22807</td>\n",
              "      <td>45</td>\n",
              "      <td>1495</td>\n",
              "      <td>09-12-77</td>\n",
              "      <td>Self employed</td>\n",
              "      <td>26-09-18</td>\n",
              "      <td>6</td>\n",
              "      <td>1998</td>\n",
              "      <td>1</td>\n",
              "      <td>1</td>\n",
              "      <td>0</td>\n",
              "      <td>0</td>\n",
              "      <td>0</td>\n",
              "      <td>0</td>\n",
              "      <td>0</td>\n",
              "      <td>No Bureau History Available</td>\n",
              "      <td>0</td>\n",
              "      <td>0</td>\n",
              "      <td>0</td>\n",
              "      <td>0</td>\n",
              "      <td>0</td>\n",
              "      <td>0</td>\n",
              "      <td>0</td>\n",
              "      <td>0</td>\n",
              "      <td>0</td>\n",
              "      <td>0</td>\n",
              "      <td>0</td>\n",
              "      <td>0</td>\n",
              "      <td>0</td>\n",
              "      <td>0</td>\n",
              "      <td>0</td>\n",
              "      <td>0</td>\n",
              "      <td>0yrs 0mon</td>\n",
              "      <td>0yrs 0mon</td>\n",
              "      <td>1</td>\n",
              "      <td>1</td>\n",
              "    </tr>\n",
              "  </tbody>\n",
              "</table>\n",
              "</div>"
            ],
            "text/plain": [
              "   UniqueID  disbursed_amount  ...  NO.OF_INQUIRIES  loan_default\n",
              "0    420825             50578  ...                0             0\n",
              "1    537409             47145  ...                0             1\n",
              "2    417566             53278  ...                0             0\n",
              "3    624493             57513  ...                1             1\n",
              "4    539055             52378  ...                1             1\n",
              "\n",
              "[5 rows x 41 columns]"
            ]
          },
          "metadata": {
            "tags": []
          },
          "execution_count": 241
        }
      ]
    },
    {
      "cell_type": "code",
      "metadata": {
        "id": "m3IqbYmOa27y",
        "colab_type": "code",
        "outputId": "43088378-2b24-4c6f-a0e3-82053a46bcdd",
        "colab": {
          "base_uri": "https://localhost:8080/",
          "height": 833
        }
      },
      "source": [
        "df.info()"
      ],
      "execution_count": 0,
      "outputs": [
        {
          "output_type": "stream",
          "text": [
            "<class 'pandas.core.frame.DataFrame'>\n",
            "RangeIndex: 233154 entries, 0 to 233153\n",
            "Data columns (total 41 columns):\n",
            " #   Column                               Non-Null Count   Dtype  \n",
            "---  ------                               --------------   -----  \n",
            " 0   UniqueID                             233154 non-null  int64  \n",
            " 1   disbursed_amount                     233154 non-null  int64  \n",
            " 2   asset_cost                           233154 non-null  int64  \n",
            " 3   ltv                                  233154 non-null  float64\n",
            " 4   branch_id                            233154 non-null  int64  \n",
            " 5   supplier_id                          233154 non-null  int64  \n",
            " 6   manufacturer_id                      233154 non-null  int64  \n",
            " 7   Current_pincode_ID                   233154 non-null  int64  \n",
            " 8   Date.of.Birth                        233154 non-null  object \n",
            " 9   Employment.Type                      225493 non-null  object \n",
            " 10  DisbursalDate                        233154 non-null  object \n",
            " 11  State_ID                             233154 non-null  int64  \n",
            " 12  Employee_code_ID                     233154 non-null  int64  \n",
            " 13  MobileNo_Avl_Flag                    233154 non-null  int64  \n",
            " 14  Aadhar_flag                          233154 non-null  int64  \n",
            " 15  PAN_flag                             233154 non-null  int64  \n",
            " 16  VoterID_flag                         233154 non-null  int64  \n",
            " 17  Driving_flag                         233154 non-null  int64  \n",
            " 18  Passport_flag                        233154 non-null  int64  \n",
            " 19  PERFORM_CNS.SCORE                    233154 non-null  int64  \n",
            " 20  PERFORM_CNS.SCORE.DESCRIPTION        233154 non-null  object \n",
            " 21  PRI.NO.OF.ACCTS                      233154 non-null  int64  \n",
            " 22  PRI.ACTIVE.ACCTS                     233154 non-null  int64  \n",
            " 23  PRI.OVERDUE.ACCTS                    233154 non-null  int64  \n",
            " 24  PRI.CURRENT.BALANCE                  233154 non-null  int64  \n",
            " 25  PRI.SANCTIONED.AMOUNT                233154 non-null  int64  \n",
            " 26  PRI.DISBURSED.AMOUNT                 233154 non-null  int64  \n",
            " 27  SEC.NO.OF.ACCTS                      233154 non-null  int64  \n",
            " 28  SEC.ACTIVE.ACCTS                     233154 non-null  int64  \n",
            " 29  SEC.OVERDUE.ACCTS                    233154 non-null  int64  \n",
            " 30  SEC.CURRENT.BALANCE                  233154 non-null  int64  \n",
            " 31  SEC.SANCTIONED.AMOUNT                233154 non-null  int64  \n",
            " 32  SEC.DISBURSED.AMOUNT                 233154 non-null  int64  \n",
            " 33  PRIMARY.INSTAL.AMT                   233154 non-null  int64  \n",
            " 34  SEC.INSTAL.AMT                       233154 non-null  int64  \n",
            " 35  NEW.ACCTS.IN.LAST.SIX.MONTHS         233154 non-null  int64  \n",
            " 36  DELINQUENT.ACCTS.IN.LAST.SIX.MONTHS  233154 non-null  int64  \n",
            " 37  AVERAGE.ACCT.AGE                     233154 non-null  object \n",
            " 38  CREDIT.HISTORY.LENGTH                233154 non-null  object \n",
            " 39  NO.OF_INQUIRIES                      233154 non-null  int64  \n",
            " 40  loan_default                         233154 non-null  int64  \n",
            "dtypes: float64(1), int64(34), object(6)\n",
            "memory usage: 72.9+ MB\n"
          ],
          "name": "stdout"
        }
      ]
    },
    {
      "cell_type": "code",
      "metadata": {
        "id": "ZvyawhC_G1fx",
        "colab_type": "code",
        "outputId": "00bb25bb-3c63-4b98-c13b-adecaaafe826",
        "colab": {
          "base_uri": "https://localhost:8080/",
          "height": 68
        }
      },
      "source": [
        "df['loan_default'].value_counts()"
      ],
      "execution_count": 0,
      "outputs": [
        {
          "output_type": "execute_result",
          "data": {
            "text/plain": [
              "0    182543\n",
              "1     50611\n",
              "Name: loan_default, dtype: int64"
            ]
          },
          "metadata": {
            "tags": []
          },
          "execution_count": 243
        }
      ]
    },
    {
      "cell_type": "code",
      "metadata": {
        "id": "vVbjSA6fpKzo",
        "colab_type": "code",
        "outputId": "7b86047b-c8e1-4fac-8e0d-5c443c8ec9a4",
        "colab": {
          "base_uri": "https://localhost:8080/",
          "height": 297
        }
      },
      "source": [
        "sns.countplot(x='loan_default', data=df)"
      ],
      "execution_count": 0,
      "outputs": [
        {
          "output_type": "execute_result",
          "data": {
            "text/plain": [
              "<matplotlib.axes._subplots.AxesSubplot at 0x7f183271ff28>"
            ]
          },
          "metadata": {
            "tags": []
          },
          "execution_count": 244
        },
        {
          "output_type": "display_data",
          "data": {
            "image/png": "[encoded data removed]",
            "text/plain": [
              "<Figure size 432x288 with 1 Axes>"
            ]
          },
          "metadata": {
            "tags": [],
            "needs_background": "light"
          }
        }
      ]
    },
    {
      "cell_type": "code",
      "metadata": {
        "id": "E2hs8gQG5M06",
        "colab_type": "code",
        "outputId": "7d47ba8a-a00c-407b-e804-8c190b4b8235",
        "colab": {
          "base_uri": "https://localhost:8080/",
          "height": 34
        }
      },
      "source": [
        "df_test.shape"
      ],
      "execution_count": 0,
      "outputs": [
        {
          "output_type": "execute_result",
          "data": {
            "text/plain": [
              "(112392, 40)"
            ]
          },
          "metadata": {
            "tags": []
          },
          "execution_count": 245
        }
      ]
    },
    {
      "cell_type": "code",
      "metadata": {
        "id": "Spk8Xzu442Rg",
        "colab_type": "code",
        "outputId": "27333e06-5ff6-4c37-f87c-5743384ca063",
        "colab": {
          "base_uri": "https://localhost:8080/",
          "height": 816
        }
      },
      "source": [
        "df_test.info()"
      ],
      "execution_count": 0,
      "outputs": [
        {
          "output_type": "stream",
          "text": [
            "<class 'pandas.core.frame.DataFrame'>\n",
            "RangeIndex: 112392 entries, 0 to 112391\n",
            "Data columns (total 40 columns):\n",
            " #   Column                               Non-Null Count   Dtype  \n",
            "---  ------                               --------------   -----  \n",
            " 0   UniqueID                             112392 non-null  int64  \n",
            " 1   disbursed_amount                     112392 non-null  int64  \n",
            " 2   asset_cost                           112392 non-null  int64  \n",
            " 3   ltv                                  112392 non-null  float64\n",
            " 4   branch_id                            112392 non-null  int64  \n",
            " 5   supplier_id                          112392 non-null  int64  \n",
            " 6   manufacturer_id                      112392 non-null  int64  \n",
            " 7   Current_pincode_ID                   112392 non-null  int64  \n",
            " 8   Date.of.Birth                        112392 non-null  object \n",
            " 9   Employment.Type                      108949 non-null  object \n",
            " 10  DisbursalDate                        112392 non-null  object \n",
            " 11  State_ID                             112392 non-null  int64  \n",
            " 12  Employee_code_ID                     112392 non-null  int64  \n",
            " 13  MobileNo_Avl_Flag                    112392 non-null  int64  \n",
            " 14  Aadhar_flag                          112392 non-null  int64  \n",
            " 15  PAN_flag                             112392 non-null  int64  \n",
            " 16  VoterID_flag                         112392 non-null  int64  \n",
            " 17  Driving_flag                         112392 non-null  int64  \n",
            " 18  Passport_flag                        112392 non-null  int64  \n",
            " 19  PERFORM_CNS.SCORE                    112392 non-null  int64  \n",
            " 20  PERFORM_CNS.SCORE.DESCRIPTION        112392 non-null  object \n",
            " 21  PRI.NO.OF.ACCTS                      112392 non-null  int64  \n",
            " 22  PRI.ACTIVE.ACCTS                     112392 non-null  int64  \n",
            " 23  PRI.OVERDUE.ACCTS                    112392 non-null  int64  \n",
            " 24  PRI.CURRENT.BALANCE                  112392 non-null  int64  \n",
            " 25  PRI.SANCTIONED.AMOUNT                112392 non-null  int64  \n",
            " 26  PRI.DISBURSED.AMOUNT                 112392 non-null  int64  \n",
            " 27  SEC.NO.OF.ACCTS                      112392 non-null  int64  \n",
            " 28  SEC.ACTIVE.ACCTS                     112392 non-null  int64  \n",
            " 29  SEC.OVERDUE.ACCTS                    112392 non-null  int64  \n",
            " 30  SEC.CURRENT.BALANCE                  112392 non-null  int64  \n",
            " 31  SEC.SANCTIONED.AMOUNT                112392 non-null  int64  \n",
            " 32  SEC.DISBURSED.AMOUNT                 112392 non-null  int64  \n",
            " 33  PRIMARY.INSTAL.AMT                   112392 non-null  int64  \n",
            " 34  SEC.INSTAL.AMT                       112392 non-null  int64  \n",
            " 35  NEW.ACCTS.IN.LAST.SIX.MONTHS         112392 non-null  int64  \n",
            " 36  DELINQUENT.ACCTS.IN.LAST.SIX.MONTHS  112392 non-null  int64  \n",
            " 37  AVERAGE.ACCT.AGE                     112392 non-null  object \n",
            " 38  CREDIT.HISTORY.LENGTH                112392 non-null  object \n",
            " 39  NO.OF_INQUIRIES                      112392 non-null  int64  \n",
            "dtypes: float64(1), int64(33), object(6)\n",
            "memory usage: 34.3+ MB\n"
          ],
          "name": "stdout"
        }
      ]
    },
    {
      "cell_type": "code",
      "metadata": {
        "id": "qPMbjKhHp_Fu",
        "colab_type": "code",
        "outputId": "df288a9e-5b5b-4c9d-e05f-3fc0cbf86c95",
        "colab": {
          "base_uri": "https://localhost:8080/",
          "height": 255
        }
      },
      "source": [
        "df.columns"
      ],
      "execution_count": 0,
      "outputs": [
        {
          "output_type": "execute_result",
          "data": {
            "text/plain": [
              "Index(['UniqueID', 'disbursed_amount', 'asset_cost', 'ltv', 'branch_id',\n",
              "       'supplier_id', 'manufacturer_id', 'Current_pincode_ID', 'Date.of.Birth',\n",
              "       'Employment.Type', 'DisbursalDate', 'State_ID', 'Employee_code_ID',\n",
              "       'MobileNo_Avl_Flag', 'Aadhar_flag', 'PAN_flag', 'VoterID_flag',\n",
              "       'Driving_flag', 'Passport_flag', 'PERFORM_CNS.SCORE',\n",
              "       'PERFORM_CNS.SCORE.DESCRIPTION', 'PRI.NO.OF.ACCTS', 'PRI.ACTIVE.ACCTS',\n",
              "       'PRI.OVERDUE.ACCTS', 'PRI.CURRENT.BALANCE', 'PRI.SANCTIONED.AMOUNT',\n",
              "       'PRI.DISBURSED.AMOUNT', 'SEC.NO.OF.ACCTS', 'SEC.ACTIVE.ACCTS',\n",
              "       'SEC.OVERDUE.ACCTS', 'SEC.CURRENT.BALANCE', 'SEC.SANCTIONED.AMOUNT',\n",
              "       'SEC.DISBURSED.AMOUNT', 'PRIMARY.INSTAL.AMT', 'SEC.INSTAL.AMT',\n",
              "       'NEW.ACCTS.IN.LAST.SIX.MONTHS', 'DELINQUENT.ACCTS.IN.LAST.SIX.MONTHS',\n",
              "       'AVERAGE.ACCT.AGE', 'CREDIT.HISTORY.LENGTH', 'NO.OF_INQUIRIES',\n",
              "       'loan_default'],\n",
              "      dtype='object')"
            ]
          },
          "metadata": {
            "tags": []
          },
          "execution_count": 247
        }
      ]
    },
    {
      "cell_type": "markdown",
      "metadata": {
        "id": "t1mEmJJ0qd7P",
        "colab_type": "text"
      },
      "source": [
        "\n",
        "**Check Unique values of all the column**"
      ]
    },
    {
      "cell_type": "code",
      "metadata": {
        "id": "C9kvSF7tqWfB",
        "colab_type": "code",
        "outputId": "23ff0186-e353-48b8-c35c-01722cd4a0f1",
        "colab": {
          "base_uri": "https://localhost:8080/",
          "height": 1000
        }
      },
      "source": [
        "for i in df.columns:\n",
        "  print(i)\n",
        "  print(df[i].unique())\n",
        "  print('---'*20)"
      ],
      "execution_count": 0,
      "outputs": [
        {
          "output_type": "stream",
          "text": [
            "UniqueID\n",
            "[420825 537409 417566 ... 613658 548084 630213]\n",
            "------------------------------------------------------------\n",
            "disbursed_amount\n",
            "[50578 47145 53278 ... 61456 51406 34259]\n",
            "------------------------------------------------------------\n",
            "asset_cost\n",
            "[ 58400  65550  61360 ...  45233  52965 116009]\n",
            "------------------------------------------------------------\n",
            "ltv\n",
            "[89.55 73.23 89.63 ... 33.32 32.53 33.82]\n",
            "------------------------------------------------------------\n",
            "branch_id\n",
            "[ 67  78  34 130  74  11   5  20  63  48  79   3  42 142  36  16 146 147\n",
            "  65   9   1 152  29  10  70  19   7  85  61  17   8 153  18 162  68  72\n",
            "  64   2 160 251 103 104 120 136  77  13 138 135  73 248  15 165  62  76\n",
            " 105 249 250 255 254  82 158 159 117 202 259 207  35  69  97  43 257 258\n",
            " 260 111  66 261 101  14 121 217  84 100]\n",
            "------------------------------------------------------------\n",
            "supplier_id\n",
            "[22807 22744 17014 ... 23618 22289 24031]\n",
            "------------------------------------------------------------\n",
            "manufacturer_id\n",
            "[ 45  86  48  51 120  49 145  67 153 156 152]\n",
            "------------------------------------------------------------\n",
            "Current_pincode_ID\n",
            "[1441 1502 1497 ... 3586  680  693]\n",
            "------------------------------------------------------------\n",
            "Date.of.Birth\n",
            "['01-01-84' '31-07-85' '24-08-85' ... '24-03-62' '23-07-66' '08-12-62']\n",
            "------------------------------------------------------------\n",
            "Employment.Type\n",
            "['Salaried' 'Self employed' nan]\n",
            "------------------------------------------------------------\n",
            "DisbursalDate\n",
            "['03-08-18' '26-09-18' '01-08-18' '26-10-18' '19-09-18' '23-09-18'\n",
            " '16-09-18' '05-09-18' '29-09-18' '03-09-18' '30-08-18' '31-08-18'\n",
            " '22-10-18' '18-09-18' '20-09-18' '06-09-18' '11-10-18' '20-10-18'\n",
            " '27-08-18' '08-10-18' '17-09-18' '10-09-18' '18-10-18' '16-08-18'\n",
            " '10-10-18' '23-10-18' '30-09-18' '21-09-18' '12-09-18' '21-08-18'\n",
            " '14-08-18' '17-10-18' '30-10-18' '06-08-18' '04-10-18' '16-10-18'\n",
            " '21-10-18' '15-09-18' '06-10-18' '24-10-18' '28-08-18' '13-09-18'\n",
            " '31-10-18' '07-09-18' '24-08-18' '05-10-18' '14-10-18' '13-10-18'\n",
            " '11-08-18' '28-09-18' '25-10-18' '29-10-18' '10-08-18' '12-08-18'\n",
            " '25-08-18' '26-08-18' '08-08-18' '27-10-18' '18-08-18' '23-08-18'\n",
            " '20-08-18' '22-09-18' '24-09-18' '15-10-18' '28-10-18' '14-09-18'\n",
            " '04-09-18' '13-08-18' '17-08-18' '29-08-18' '27-09-18' '04-08-18'\n",
            " '03-10-18' '08-09-18' '25-09-18' '22-08-18' '09-08-18' '09-10-18'\n",
            " '19-10-18' '07-08-18' '11-09-18' '12-10-18' '05-08-18' '02-10-18']\n",
            "------------------------------------------------------------\n",
            "State_ID\n",
            "[ 6  4  3  9  5 10 18 15  1 16 13 14 17  2 11  7 12  8 20 19 22 21]\n",
            "------------------------------------------------------------\n",
            "Employee_code_ID\n",
            "[1998 1646  115 ... 3198 3705 3479]\n",
            "------------------------------------------------------------\n",
            "MobileNo_Avl_Flag\n",
            "[1]\n",
            "------------------------------------------------------------\n",
            "Aadhar_flag\n",
            "[1 0]\n",
            "------------------------------------------------------------\n",
            "PAN_flag\n",
            "[0 1]\n",
            "------------------------------------------------------------\n",
            "VoterID_flag\n",
            "[0 1]\n",
            "------------------------------------------------------------\n",
            "Driving_flag\n",
            "[0 1]\n",
            "------------------------------------------------------------\n",
            "Passport_flag\n",
            "[0 1]\n",
            "------------------------------------------------------------\n",
            "PERFORM_CNS.SCORE\n",
            "[  0 598 305 825  17 718 818 300 786 738 688 585 615 750 801 730 758 768\n",
            " 610 653 413 709 719  16  15 701 626 717 692 501 693 762 749 702  18 763\n",
            " 599 824 575 607 819 841 656 836 427 687 743 783 733 708 772 650 342 680\n",
            " 676 548 429 597 663 667 792 707 798 606 681 830 684 686 593 746 829 651\n",
            " 710 573 695 671 729 879 603 753 502 739 605 706 657 639 785 405 690 602\n",
            " 635 630 741 625 628 766  14 809 737 722 760 640 797 505 774 620 728 694\n",
            " 679 470 823 685 832 662 627 392 643 727 660 705 726 796 611 771 586 839\n",
            " 623 700 691 793 752 644 734 582 437 601 703 675 755 740 810 661 324 759\n",
            " 646 659 583 440 638 490 609 721 574 673 600 784 652 595 777 596 655 678\n",
            " 713 362 466 399 426 532 386 821 714 508 636 537 698 590 488 608 519 398\n",
            " 308 634 666 523 642 616 455 672 451 469 567 572 723 367 369 654 641 647\n",
            " 366 845 775 724 323 461 665 493 459 512 549 335 571 617 449 540 442 594\n",
            " 757 423 568 613 562 633 309 406 517 534 649 471 344 503 499 513 699 417\n",
            " 683 624 428 732 404 711 612 805 375 629 677 569 589 363 447 431 742 689\n",
            " 767 622 474 815 495 371 343 380 781 799 631 592 542 697 584 670 580 441\n",
            " 348 696 316 756 545 669 619 385 744 453 731 416 393 448 578 390 618 554\n",
            " 782 339 835 498 452 557 581 648 712 377 536 407 507 456 430 668 327 859\n",
            " 778 419 525 372 330 563 432 538 487 485 464 403 745 478 751 773 748 564\n",
            " 401 789 664 621 614 410 632 550 591 354 446 522 588 450 509 682 560 855\n",
            " 561 472 345 337 374 481 527 736 383 435 716 790 604 425 791 359 725 439\n",
            " 303 389 735 346 637 521 844 559 457 529 496 840 336 530 533 754 302 826\n",
            " 645 415 565 543 541 556 779 500 704 820 397 539 795 467 780 558 506 566\n",
            " 555 552 811 489 411 577 473 484 436 587 579 674 516 720 807 444 544 462\n",
            " 551 816 483 510 806 747 381 378 321 812 800 535 340 465 518 770 504 764\n",
            " 468 475 438 477 494 482 511 396 418 479 520 878 570 460 424 803 547 769\n",
            " 858 379 315 546 421 310 476 497 356 715 395 553 526 576 312 890 814 445\n",
            " 454 853 658 412 434 804 761 528 458 515 514 307 408 314 319 433 492 817\n",
            " 318 350 402 400 794 368 531 388 409 422 365 333 394 347 382 463 787 301\n",
            " 357 317 802 524 420 486 491 326 306 355 864 813 480 391 361 373 358 376\n",
            " 414 351 352 320 788 370 349 360 443 869 828 338 833 341 850 808 776 870\n",
            " 329 304 328 384 387 842 834 863 847 322 311 325 868  11 873 353 765 332\n",
            " 843 364 331 849 862 822 884 852 334 831 827 838 837 313 867]\n",
            "------------------------------------------------------------\n",
            "PERFORM_CNS.SCORE.DESCRIPTION\n",
            "['No Bureau History Available' 'I-Medium Risk' 'L-Very High Risk'\n",
            " 'A-Very Low Risk' 'Not Scored: Not Enough Info available on the customer'\n",
            " 'D-Very Low Risk' 'M-Very High Risk' 'B-Very Low Risk' 'C-Very Low Risk'\n",
            " 'E-Low Risk' 'H-Medium Risk' 'F-Low Risk' 'K-High Risk'\n",
            " 'Not Scored: No Activity seen on the customer (Inactive)'\n",
            " 'Not Scored: Sufficient History Not Available'\n",
            " 'Not Scored: No Updates available in last 36 months' 'G-Low Risk'\n",
            " 'J-High Risk' 'Not Scored: Only a Guarantor'\n",
            " 'Not Scored: More than 50 active Accounts found']\n",
            "------------------------------------------------------------\n",
            "PRI.NO.OF.ACCTS\n",
            "[  0   1   3   2   7  10   5   6  13   9   4  11  36   8  17  12  14  16\n",
            "  24  29  21  30  15  34  25  56  20  49  19  45  18  23  22  31  46  26\n",
            "  40  37  27  32  38  35  28  48  58  41  90  60  93  50  43  39  33  44\n",
            "  55  66  53 120  47  42  62  82  94  52  51 108  57  67  78  54  68  65\n",
            "  59 148 271  70  72  74  63 147  73  64  71  87  84  99  61  77 453 132\n",
            "  91  81 113  69 194  76 354  88 100 102 136 124  85 131 104 114  86  83]\n",
            "------------------------------------------------------------\n",
            "PRI.ACTIVE.ACCTS\n",
            "[  0   1   2   5   4   8   3   6   9  11   7  14  10  12  21  20  15  16\n",
            "  18  13  19  17  31  25  23  27  26  65  32  24  22  35  34  52  28  43\n",
            "  37 144  42  39]\n",
            "------------------------------------------------------------\n",
            "PRI.OVERDUE.ACCTS\n",
            "[ 0  1  3  2 14  4  5  8  6  7  9 18 13 11 12 17 10 23 19 15 16 25]\n",
            "------------------------------------------------------------\n",
            "PRI.CURRENT.BALANCE\n",
            "[     0  27600  72879 ...  13064 201422 390443]\n",
            "------------------------------------------------------------\n",
            "PRI.SANCTIONED.AMOUNT\n",
            "[     0  50200  74500 ...  85629 276624 416133]\n",
            "------------------------------------------------------------\n",
            "PRI.DISBURSED.AMOUNT\n",
            "[     0  50200  74500 ...  80226 237977 416133]\n",
            "------------------------------------------------------------\n",
            "SEC.NO.OF.ACCTS\n",
            "[ 0  2  1  3 11  9  5  4  7 19  6 16  8 10 23 13 25 46 14 31 15 20 18 28\n",
            " 30 38 37 29 12 24 17 34 21 42 22 35 52]\n",
            "------------------------------------------------------------\n",
            "SEC.ACTIVE.ACCTS\n",
            "[ 0  2  1  3 11  4  9  5  7  6 10 26 22  8 21 14 15 12 20 13 36 17 16]\n",
            "------------------------------------------------------------\n",
            "SEC.OVERDUE.ACCTS\n",
            "[0 1 4 5 3 2 6 8 7]\n",
            "------------------------------------------------------------\n",
            "SEC.CURRENT.BALANCE\n",
            "[      0 1171994 5787530 ... 3618737   17326   41108]\n",
            "------------------------------------------------------------\n",
            "SEC.SANCTIONED.AMOUNT\n",
            "[      0 1690000   40000 ... 3953133   64040   49246]\n",
            "------------------------------------------------------------\n",
            "SEC.DISBURSED.AMOUNT\n",
            "[      0 1690000     361 ... 3953133   64040   49246]\n",
            "------------------------------------------------------------\n",
            "PRIMARY.INSTAL.AMT\n",
            "[    0  1991    31 ... 22090 79611 23356]\n",
            "------------------------------------------------------------\n",
            "SEC.INSTAL.AMT\n",
            "[   0 9382 6485 ... 2665 3500 3558]\n",
            "------------------------------------------------------------\n",
            "NEW.ACCTS.IN.LAST.SIX.MONTHS\n",
            "[ 0  1  4  2  6  3  9  5 14  8  7 13 22 10 11 12 35 17 28 15 19 23 16 20\n",
            " 18 21]\n",
            "------------------------------------------------------------\n",
            "DELINQUENT.ACCTS.IN.LAST.SIX.MONTHS\n",
            "[ 0  1  2  3  5  4  7  6  8  9 12 10 20 11]\n",
            "------------------------------------------------------------\n",
            "AVERAGE.ACCT.AGE\n",
            "['0yrs 0mon' '1yrs 11mon' '0yrs 8mon' '1yrs 9mon' '0yrs 2mon' '4yrs 8mon'\n",
            " '1yrs 7mon' '0yrs 7mon' '2yrs 1mon' '1yrs 3mon' '1yrs 0mon' '3yrs 11mon'\n",
            " '0yrs 1mon' '2yrs 6mon' '1yrs 10mon' '0yrs 11mon' '0yrs 6mon' '2yrs 9mon'\n",
            " '3yrs 1mon' '2yrs 0mon' '0yrs 4mon' '1yrs 1mon' '0yrs 5mon' '2yrs 10mon'\n",
            " '3yrs 9mon' '1yrs 2mon' '12yrs 10mon' '0yrs 10mon' '1yrs 6mon'\n",
            " '2yrs 5mon' '3yrs 8mon' '2yrs 3mon' '1yrs 5mon' '2yrs 8mon' '0yrs 9mon'\n",
            " '3yrs 0mon' '7yrs 3mon' '4yrs 4mon' '1yrs 4mon' '0yrs 3mon' '1yrs 8mon'\n",
            " '3yrs 4mon' '3yrs 5mon' '4yrs 7mon' '2yrs 7mon' '2yrs 4mon' '3yrs 10mon'\n",
            " '5yrs 6mon' '2yrs 2mon' '3yrs 3mon' '4yrs 0mon' '4yrs 10mon' '9yrs 10mon'\n",
            " '5yrs 0mon' '5yrs 1mon' '4yrs 11mon' '6yrs 2mon' '10yrs 3mon'\n",
            " '6yrs 11mon' '4yrs 6mon' '4yrs 5mon' '6yrs 8mon' '6yrs 5mon' '5yrs 3mon'\n",
            " '4yrs 1mon' '3yrs 6mon' '4yrs 3mon' '3yrs 7mon' '3yrs 2mon' '7yrs 0mon'\n",
            " '5yrs 2mon' '7yrs 11mon' '5yrs 5mon' '4yrs 9mon' '9yrs 11mon' '7yrs 5mon'\n",
            " '2yrs 11mon' '10yrs 0mon' '6yrs 0mon' '5yrs 9mon' '4yrs 2mon'\n",
            " '11yrs 7mon' '6yrs 9mon' '6yrs 3mon' '10yrs 9mon' '7yrs 6mon' '8yrs 0mon'\n",
            " '12yrs 3mon' '8yrs 1mon' '7yrs 9mon' '5yrs 10mon' '5yrs 4mon' '8yrs 5mon'\n",
            " '11yrs 4mon' '6yrs 7mon' '5yrs 11mon' '6yrs 4mon' '6yrs 6mon' '9yrs 7mon'\n",
            " '5yrs 7mon' '8yrs 8mon' '5yrs 8mon' '10yrs 2mon' '8yrs 9mon' '10yrs 8mon'\n",
            " '12yrs 0mon' '9yrs 8mon' '8yrs 2mon' '13yrs 10mon' '7yrs 10mon'\n",
            " '7yrs 8mon' '9yrs 9mon' '9yrs 2mon' '8yrs 4mon' '10yrs 11mon'\n",
            " '11yrs 0mon' '11yrs 8mon' '9yrs 1mon' '10yrs 1mon' '6yrs 10mon'\n",
            " '11yrs 2mon' '11yrs 10mon' '10yrs 4mon' '13yrs 0mon' '13yrs 8mon'\n",
            " '10yrs 10mon' '11yrs 6mon' '10yrs 7mon' '7yrs 7mon' '9yrs 0mon'\n",
            " '13yrs 1mon' '7yrs 4mon' '6yrs 1mon' '11yrs 1mon' '14yrs 7mon'\n",
            " '8yrs 3mon' '7yrs 1mon' '8yrs 7mon' '9yrs 6mon' '7yrs 2mon' '9yrs 4mon'\n",
            " '14yrs 3mon' '11yrs 11mon' '9yrs 5mon' '8yrs 6mon' '11yrs 3mon'\n",
            " '8yrs 10mon' '9yrs 3mon' '12yrs 9mon' '12yrs 7mon' '14yrs 5mon'\n",
            " '12yrs 6mon' '14yrs 1mon' '13yrs 5mon' '15yrs 11mon' '10yrs 6mon'\n",
            " '13yrs 7mon' '13yrs 6mon' '14yrs 8mon' '30yrs 9mon' '11yrs 9mon'\n",
            " '15yrs 3mon' '8yrs 11mon' '18yrs 11mon' '15yrs 2mon' '15yrs 5mon'\n",
            " '10yrs 5mon' '24yrs 4mon' '13yrs 11mon' '13yrs 3mon' '14yrs 0mon'\n",
            " '12yrs 11mon' '16yrs 3mon' '17yrs 10mon' '16yrs 11mon' '12yrs 2mon'\n",
            " '12yrs 4mon' '15yrs 0mon' '12yrs 5mon' '11yrs 5mon' '12yrs 1mon'\n",
            " '22yrs 6mon' '13yrs 2mon' '15yrs 4mon' '13yrs 4mon' '14yrs 11mon'\n",
            " '14yrs 2mon' '16yrs 0mon' '16yrs 5mon' '16yrs 7mon' '14yrs 6mon'\n",
            " '15yrs 8mon']\n",
            "------------------------------------------------------------\n",
            "CREDIT.HISTORY.LENGTH\n",
            "['0yrs 0mon' '1yrs 11mon' '1yrs 3mon' '2yrs 0mon' '0yrs 2mon' '4yrs 8mon'\n",
            " '1yrs 7mon' '0yrs 7mon' '2yrs 3mon' '2yrs 9mon' '2yrs 1mon' '7yrs 2mon'\n",
            " '0yrs 1mon' '5yrs 6mon' '4yrs 7mon' '1yrs 9mon' '0yrs 11mon' '0yrs 10mon'\n",
            " '5yrs 10mon' '3yrs 1mon' '5yrs 4mon' '4yrs 10mon' '0yrs 4mon' '4yrs 0mon'\n",
            " '3yrs 9mon' '2yrs 11mon' '1yrs 8mon' '5yrs 2mon' '2yrs 10mon' '1yrs 2mon'\n",
            " '1yrs 5mon' '12yrs 10mon' '2yrs 2mon' '3yrs 8mon' '7yrs 5mon' '1yrs 0mon'\n",
            " '4yrs 2mon' '1yrs 10mon' '0yrs 6mon' '3yrs 2mon' '5yrs 1mon' '4yrs 3mon'\n",
            " '6yrs 9mon' '1yrs 1mon' '11yrs 0mon' '0yrs 9mon' '5yrs 0mon' '11yrs 2mon'\n",
            " '4yrs 1mon' '1yrs 4mon' '4yrs 9mon' '12yrs 11mon' '3yrs 7mon' '2yrs 5mon'\n",
            " '0yrs 3mon' '6yrs 6mon' '1yrs 6mon' '7yrs 4mon' '19yrs 3mon' '3yrs 0mon'\n",
            " '4yrs 6mon' '2yrs 7mon' '2yrs 8mon' '3yrs 11mon' '4yrs 11mon' '8yrs 1mon'\n",
            " '7yrs 7mon' '6yrs 7mon' '2yrs 4mon' '3yrs 10mon' '3yrs 3mon' '9yrs 2mon'\n",
            " '5yrs 11mon' '7yrs 1mon' '0yrs 5mon' '3yrs 5mon' '3yrs 4mon' '2yrs 6mon'\n",
            " '3yrs 6mon' '6yrs 10mon' '6yrs 3mon' '4yrs 5mon' '13yrs 2mon'\n",
            " '12yrs 3mon' '0yrs 8mon' '6yrs 2mon' '11yrs 11mon' '6yrs 5mon'\n",
            " '5yrs 5mon' '6yrs 11mon' '11yrs 4mon' '6yrs 1mon' '8yrs 6mon' '8yrs 4mon'\n",
            " '5yrs 8mon' '8yrs 11mon' '11yrs 3mon' '10yrs 9mon' '7yrs 3mon'\n",
            " '5yrs 7mon' '10yrs 0mon' '6yrs 8mon' '5yrs 3mon' '10yrs 10mon'\n",
            " '8yrs 8mon' '4yrs 4mon' '6yrs 0mon' '8yrs 3mon' '8yrs 7mon' '10yrs 5mon'\n",
            " '24yrs 8mon' '13yrs 5mon' '5yrs 9mon' '8yrs 5mon' '10yrs 2mon'\n",
            " '7yrs 0mon' '8yrs 10mon' '11yrs 5mon' '9yrs 4mon' '12yrs 0mon'\n",
            " '9yrs 8mon' '7yrs 11mon' '9yrs 5mon' '11yrs 7mon' '7yrs 8mon' '6yrs 4mon'\n",
            " '9yrs 11mon' '9yrs 10mon' '13yrs 3mon' '11yrs 8mon' '10yrs 1mon'\n",
            " '11yrs 6mon' '8yrs 9mon' '10yrs 4mon' '16yrs 1mon' '9yrs 1mon'\n",
            " '15yrs 2mon' '11yrs 9mon' '12yrs 1mon' '8yrs 2mon' '22yrs 7mon'\n",
            " '10yrs 3mon' '9yrs 7mon' '8yrs 0mon' '14yrs 9mon' '14yrs 10mon'\n",
            " '14yrs 0mon' '10yrs 8mon' '16yrs 5mon' '10yrs 7mon' '11yrs 10mon'\n",
            " '12yrs 6mon' '7yrs 9mon' '16yrs 4mon' '11yrs 1mon' '7yrs 6mon'\n",
            " '7yrs 10mon' '9yrs 9mon' '12yrs 8mon' '12yrs 9mon' '13yrs 7mon'\n",
            " '9yrs 0mon' '17yrs 1mon' '22yrs 3mon' '13yrs 10mon' '13yrs 6mon'\n",
            " '12yrs 4mon' '10yrs 11mon' '9yrs 3mon' '12yrs 5mon' '14yrs 11mon'\n",
            " '10yrs 6mon' '9yrs 6mon' '15yrs 1mon' '14yrs 3mon' '13yrs 4mon'\n",
            " '14yrs 7mon' '15yrs 11mon' '27yrs 4mon' '13yrs 0mon' '13yrs 8mon'\n",
            " '19yrs 11mon' '16yrs 8mon' '24yrs 2mon' '15yrs 7mon' '13yrs 1mon'\n",
            " '12yrs 7mon' '15yrs 6mon' '15yrs 5mon' '13yrs 11mon' '16yrs 6mon'\n",
            " '23yrs 3mon' '17yrs 0mon' '14yrs 6mon' '17yrs 10mon' '14yrs 1mon'\n",
            " '18yrs 1mon' '15yrs 3mon' '20yrs 6mon' '14yrs 8mon' '15yrs 9mon'\n",
            " '19yrs 9mon' '15yrs 10mon' '17yrs 9mon' '15yrs 4mon' '12yrs 2mon'\n",
            " '19yrs 10mon' '15yrs 8mon' '14yrs 4mon' '14yrs 2mon' '14yrs 5mon'\n",
            " '27yrs 3mon' '19yrs 8mon' '17yrs 6mon' '16yrs 9mon' '20yrs 1mon'\n",
            " '16yrs 2mon' '19yrs 4mon' '13yrs 9mon' '18yrs 4mon' '17yrs 3mon'\n",
            " '18yrs 2mon' '37yrs 5mon' '16yrs 0mon' '18yrs 6mon' '19yrs 7mon'\n",
            " '16yrs 3mon' '20yrs 5mon' '21yrs 3mon' '25yrs 6mon' '20yrs 8mon'\n",
            " '22yrs 1mon' '20yrs 9mon' '17yrs 2mon' '18yrs 5mon' '30yrs 9mon'\n",
            " '29yrs 7mon' '15yrs 0mon' '16yrs 10mon' '18yrs 11mon' '16yrs 11mon'\n",
            " '22yrs 2mon' '23yrs 6mon' '20yrs 11mon' '18yrs 10mon' '24yrs 4mon'\n",
            " '28yrs 1mon' '16yrs 7mon' '20yrs 10mon' '25yrs 0mon' '25yrs 7mon'\n",
            " '39yrs 0mon' '23yrs 2mon' '19yrs 6mon' '18yrs 0mon' '17yrs 7mon'\n",
            " '23yrs 4mon' '21yrs 5mon' '17yrs 5mon' '21yrs 8mon' '30yrs 7mon'\n",
            " '17yrs 4mon' '19yrs 5mon' '18yrs 8mon' '22yrs 6mon' '24yrs 7mon'\n",
            " '20yrs 4mon' '28yrs 3mon' '35yrs 3mon' '29yrs 1mon' '20yrs 2mon'\n",
            " '34yrs 5mon' '17yrs 11mon' '26yrs 3mon' '28yrs 7mon' '24yrs 0mon'\n",
            " '26yrs 8mon' '21yrs 11mon' '17yrs 8mon' '19yrs 1mon' '21yrs 1mon'\n",
            " '26yrs 11mon' '22yrs 11mon' '25yrs 8mon' '22yrs 0mon' '20yrs 0mon'\n",
            " '22yrs 4mon' '21yrs 9mon' '28yrs 9mon' '19yrs 0mon' '25yrs 11mon'\n",
            " '23yrs 1mon' '21yrs 2mon' '22yrs 10mon']\n",
            "------------------------------------------------------------\n",
            "NO.OF_INQUIRIES\n",
            "[ 0  1  4  2  3  5  6 12  9  8 18  7 19 11 10 15 14 17 20 13 23 28 16 22\n",
            " 36]\n",
            "------------------------------------------------------------\n",
            "loan_default\n",
            "[0 1]\n",
            "------------------------------------------------------------\n"
          ],
          "name": "stdout"
        }
      ]
    },
    {
      "cell_type": "markdown",
      "metadata": {
        "id": "6QgRaYBaqwF2",
        "colab_type": "text"
      },
      "source": [
        "**List of numeric columns**"
      ]
    },
    {
      "cell_type": "code",
      "metadata": {
        "id": "_YIkAqSgqcve",
        "colab_type": "code",
        "outputId": "fa41eeca-dc25-4d8b-d5fc-56f8d9b35099",
        "colab": {
          "base_uri": "https://localhost:8080/",
          "height": 612
        }
      },
      "source": [
        "\n",
        "### numerical \n",
        "numerical_cols = list(df.select_dtypes(exclude=['object']))\n",
        "numerical_cols"
      ],
      "execution_count": 0,
      "outputs": [
        {
          "output_type": "execute_result",
          "data": {
            "text/plain": [
              "['UniqueID',\n",
              " 'disbursed_amount',\n",
              " 'asset_cost',\n",
              " 'ltv',\n",
              " 'branch_id',\n",
              " 'supplier_id',\n",
              " 'manufacturer_id',\n",
              " 'Current_pincode_ID',\n",
              " 'State_ID',\n",
              " 'Employee_code_ID',\n",
              " 'MobileNo_Avl_Flag',\n",
              " 'Aadhar_flag',\n",
              " 'PAN_flag',\n",
              " 'VoterID_flag',\n",
              " 'Driving_flag',\n",
              " 'Passport_flag',\n",
              " 'PERFORM_CNS.SCORE',\n",
              " 'PRI.NO.OF.ACCTS',\n",
              " 'PRI.ACTIVE.ACCTS',\n",
              " 'PRI.OVERDUE.ACCTS',\n",
              " 'PRI.CURRENT.BALANCE',\n",
              " 'PRI.SANCTIONED.AMOUNT',\n",
              " 'PRI.DISBURSED.AMOUNT',\n",
              " 'SEC.NO.OF.ACCTS',\n",
              " 'SEC.ACTIVE.ACCTS',\n",
              " 'SEC.OVERDUE.ACCTS',\n",
              " 'SEC.CURRENT.BALANCE',\n",
              " 'SEC.SANCTIONED.AMOUNT',\n",
              " 'SEC.DISBURSED.AMOUNT',\n",
              " 'PRIMARY.INSTAL.AMT',\n",
              " 'SEC.INSTAL.AMT',\n",
              " 'NEW.ACCTS.IN.LAST.SIX.MONTHS',\n",
              " 'DELINQUENT.ACCTS.IN.LAST.SIX.MONTHS',\n",
              " 'NO.OF_INQUIRIES',\n",
              " 'loan_default']"
            ]
          },
          "metadata": {
            "tags": []
          },
          "execution_count": 249
        }
      ]
    },
    {
      "cell_type": "markdown",
      "metadata": {
        "id": "OktivkgOq_aa",
        "colab_type": "text"
      },
      "source": [
        "**List of Categorical columns**"
      ]
    },
    {
      "cell_type": "code",
      "metadata": {
        "id": "mra8vsgpq0DR",
        "colab_type": "code",
        "outputId": "90d078bb-b2f0-442e-86c2-b6c1b560c069",
        "colab": {
          "base_uri": "https://localhost:8080/",
          "height": 119
        }
      },
      "source": [
        "### categorical\n",
        "category_cols = list(df.select_dtypes(include=['object']))\n",
        "category_cols\n"
      ],
      "execution_count": 0,
      "outputs": [
        {
          "output_type": "execute_result",
          "data": {
            "text/plain": [
              "['Date.of.Birth',\n",
              " 'Employment.Type',\n",
              " 'DisbursalDate',\n",
              " 'PERFORM_CNS.SCORE.DESCRIPTION',\n",
              " 'AVERAGE.ACCT.AGE',\n",
              " 'CREDIT.HISTORY.LENGTH']"
            ]
          },
          "metadata": {
            "tags": []
          },
          "execution_count": 250
        }
      ]
    },
    {
      "cell_type": "markdown",
      "metadata": {
        "id": "mvdAiSaGqYG7",
        "colab_type": "text"
      },
      "source": [
        "# **Data cleaning and encoding**"
      ]
    },
    {
      "cell_type": "code",
      "metadata": {
        "id": "8FcqFNcNH-DR",
        "colab_type": "code",
        "colab": {}
      },
      "source": [
        "df['Date.of.Birth'] = pd.to_datetime(df['Date.of.Birth'], errors='coerce')\n",
        "now = pd.to_datetime('now')\n",
        "df['age']=(now.year - df['Date.of.Birth'].dt.year) - ((now.month - df['Date.of.Birth'].dt.month) < 0)\n",
        "\n",
        "df_test['Date.of.Birth'] = pd.to_datetime(df_test['Date.of.Birth'], errors='coerce')\n",
        "now = pd.to_datetime('now')\n",
        "df_test['age']=(now.year - df_test['Date.of.Birth'].dt.year) - ((now.month - df_test['Date.of.Birth'].dt.month) < 0)"
      ],
      "execution_count": 0,
      "outputs": []
    },
    {
      "cell_type": "code",
      "metadata": {
        "id": "SIZ_uVLUGvAN",
        "colab_type": "code",
        "colab": {}
      },
      "source": [
        "df['DisbursalDate'] = pd.to_datetime(df['DisbursalDate'], errors='coerce')\n",
        "now = pd.to_datetime('now')\n",
        "df['loan_age']=(now.year - df['DisbursalDate'].dt.year) - ((now.month - df['DisbursalDate'].dt.month) < 0)\n",
        "\n",
        "\n",
        "\n",
        "df_test['DisbursalDate'] = pd.to_datetime(df_test['DisbursalDate'], errors='coerce')\n",
        "now = pd.to_datetime('now')\n",
        "df_test['loan_age']=(now.year - df_test['DisbursalDate'].dt.year) - ((now.month - df_test['DisbursalDate'].dt.month) < 0)"
      ],
      "execution_count": 0,
      "outputs": []
    },
    {
      "cell_type": "code",
      "metadata": {
        "id": "RPnOEUFYT1ow",
        "colab_type": "code",
        "colab": {}
      },
      "source": [
        "df.rename(columns={'Employment.Type': 'Employment_Type'}, inplace=True)\n",
        "mode_ = df.Employment_Type.dropna().mode()[0]\n",
        "df['Employment_Type'] = df['Employment_Type'].fillna(mode_)\n",
        "df['Employment_Type'] = df['Employment_Type'].map( {'Salaried': 1, 'Self employed': 0} ).astype(int)\n",
        "\n",
        "df_test.rename(columns={'Employment.Type': 'Employment_Type'}, inplace=True)\n",
        "mode_ = df_test.Employment_Type.dropna().mode()[0]\n",
        "df_test['Employment_Type'] = df_test['Employment_Type'].fillna(mode_)\n",
        "df_test['Employment_Type'] = df_test['Employment_Type'].map( {'Salaried': 1, 'Self employed': 0} ).astype(int)\n",
        "\n"
      ],
      "execution_count": 0,
      "outputs": []
    },
    {
      "cell_type": "code",
      "metadata": {
        "id": "_TNTzmXva1P1",
        "colab_type": "code",
        "outputId": "ba78260e-4916-4f89-f327-59085d68d46b",
        "colab": {
          "base_uri": "https://localhost:8080/",
          "height": 119
        }
      },
      "source": [
        "df.rename(columns={'AVERAGE.ACCT.AGE': 'AVERAGE_ACCT_AGE'}, inplace=True)\n",
        "df[['year','month']] = df.AVERAGE_ACCT_AGE.str.split(expand=True)\n",
        "\n",
        "df['year'] = df['year'].str.replace('yrs','')\n",
        "\n",
        "df['month'] = df['month'].str.replace('mon','')\n",
        "df['month'] = df['month'].astype(int)\n",
        "df['month'] = df['month']/12\n",
        "df['month'] = df['month'].astype(str)\n",
        "df['avg_accage'] = df['year']+df['month']\n",
        "df['avg_accage'].head()\n",
        "\n",
        "df_test.rename(columns={'AVERAGE.ACCT.AGE': 'AVERAGE_ACCT_AGE'}, inplace=True)\n",
        "df_test[['year','month']] = df_test.AVERAGE_ACCT_AGE.str.split(expand=True)\n",
        "\n",
        "df_test['year'] = df_test['year'].str.replace('yrs','')\n",
        "\n",
        "df_test['month'] = df_test['month'].str.replace('mon','')\n",
        "df_test['month'] = df_test['month'].astype(int)\n",
        "df_test['month'] = df_test['month']/12\n",
        "df_test['month'] = df_test['month'].astype(str)\n",
        "df_test['avg_accage'] = df_test['year']+df_test['month']\n",
        "df_test['avg_accage'].head()"
      ],
      "execution_count": 0,
      "outputs": [
        {
          "output_type": "execute_result",
          "data": {
            "text/plain": [
              "0                   00.0\n",
              "1    00.6666666666666666\n",
              "2                   00.0\n",
              "3    20.4166666666666667\n",
              "4                   00.0\n",
              "Name: avg_accage, dtype: object"
            ]
          },
          "metadata": {
            "tags": []
          },
          "execution_count": 254
        }
      ]
    },
    {
      "cell_type": "code",
      "metadata": {
        "id": "9Gcyu3Uuodjw",
        "colab_type": "code",
        "outputId": "27f79f6b-496e-4db2-e0f1-61a5a4660752",
        "colab": {
          "base_uri": "https://localhost:8080/",
          "height": 221
        }
      },
      "source": [
        "df.rename(columns={'CREDIT.HISTORY.LENGTH': 'CREDIT_HISTORY_LENGTH'}, inplace=True)\n",
        "df[['credyear','credmonth']] = df.CREDIT_HISTORY_LENGTH.str.split(expand=True)\n",
        "\n",
        "df['credyear'] = df['credyear'].str.replace('yrs','')\n",
        "\n",
        "df['credmonth'] = df['credmonth'].str.replace('mon','')\n",
        "df['credmonth'] = df['credmonth'].astype(int)\n",
        "df['credmonth'] = df['credmonth']/12\n",
        "df['credmonth'] = df['credmonth'].astype(str)\n",
        "df['avg_credage'] = df['credyear']+df['credmonth']\n",
        "df['avg_credage'].astype(float)\n",
        "\n",
        "df_test.rename(columns={'CREDIT.HISTORY.LENGTH': 'CREDIT_HISTORY_LENGTH'}, inplace=True)\n",
        "df_test[['credyear','credmonth']] = df_test.CREDIT_HISTORY_LENGTH.str.split(expand=True)\n",
        "\n",
        "df_test['credyear'] = df_test['credyear'].str.replace('yrs','')\n",
        "\n",
        "df_test['credmonth'] = df_test['credmonth'].str.replace('mon','')\n",
        "df_test['credmonth'] = df_test['credmonth'].astype(int)\n",
        "df_test['credmonth'] = df_test['credmonth']/12\n",
        "df_test['credmonth'] = df_test['credmonth'].astype(str)\n",
        "df_test['avg_credage'] = df_test['credyear']+df_test['credmonth']\n",
        "df_test['avg_credage'].astype(float)"
      ],
      "execution_count": 0,
      "outputs": [
        {
          "output_type": "execute_result",
          "data": {
            "text/plain": [
              "0          0.000000\n",
              "1         10.000000\n",
              "2          0.000000\n",
              "3         20.416667\n",
              "4          0.000000\n",
              "            ...    \n",
              "112387     0.000000\n",
              "112388     0.000000\n",
              "112389    90.416667\n",
              "112390     0.250000\n",
              "112391     0.000000\n",
              "Name: avg_credage, Length: 112392, dtype: float64"
            ]
          },
          "metadata": {
            "tags": []
          },
          "execution_count": 255
        }
      ]
    },
    {
      "cell_type": "code",
      "metadata": {
        "id": "plERY-Nhwtub",
        "colab_type": "code",
        "colab": {}
      },
      "source": [
        "def generate_auc_roc_curve(clf, X_test):\n",
        "    y_pred_proba = clf.predict_proba(X_test)[:, 1]\n",
        "    fpr, tpr, thresholds = roc_curve(Y_test,  y_pred_proba)\n",
        "    auc = roc_auc_score(Y_test, y_pred_proba)\n",
        "    plt.plot(fpr,tpr,label=\"AUC ROC Curve with Area Under the curve =\"+str(auc))\n",
        "    plt.plot([0, 1], [0, 1], linestyle='--')\n",
        "    plt.legend(loc=4)\n",
        "    plt.show()\n",
        "    pass"
      ],
      "execution_count": 0,
      "outputs": []
    },
    {
      "cell_type": "code",
      "metadata": {
        "id": "7n8vddC1_hL_",
        "colab_type": "code",
        "colab": {}
      },
      "source": [
        "def generate_model_report(y_actual, y_predicted):\n",
        "    print(\"Accuracy = \" , accuracy_score(y_actual, y_predicted))\n",
        "    print(\"Precision = \" ,precision_score(y_actual, y_predicted))\n",
        "    print(\"Recall = \" ,recall_score(y_actual, y_predicted))\n",
        "    print(\"F1 Score = \" ,f1_score(y_actual, y_predicted))\n",
        "    pass"
      ],
      "execution_count": 0,
      "outputs": []
    },
    {
      "cell_type": "code",
      "metadata": {
        "id": "3NTjR4hR-tCm",
        "colab_type": "code",
        "colab": {}
      },
      "source": [
        "from sklearn.preprocessing import LabelEncoder\n",
        "from sklearn.ensemble import RandomForestClassifier\n",
        "\n",
        "from sklearn.model_selection import train_test_split\n",
        "from sklearn.metrics import accuracy_score, precision_score, recall_score, f1_score, confusion_matrix\n",
        "import sklearn.metrics as metrics\n",
        "from sklearn.model_selection import GridSearchCV"
      ],
      "execution_count": 0,
      "outputs": []
    },
    {
      "cell_type": "markdown",
      "metadata": {
        "id": "BgGNfTJ2q4hm",
        "colab_type": "text"
      },
      "source": [
        "# **#Training model**"
      ]
    },
    {
      "cell_type": "code",
      "metadata": {
        "id": "B5fszAL12JAZ",
        "colab_type": "code",
        "colab": {}
      },
      "source": [
        "X = df[['UniqueID', 'disbursed_amount', 'asset_cost', 'ltv', 'branch_id','supplier_id', 'manufacturer_id', 'Current_pincode_ID', \n",
        "       'Employment_Type', 'State_ID', 'Employee_code_ID','MobileNo_Avl_Flag', 'Aadhar_flag', 'PAN_flag', 'VoterID_flag',\n",
        "       'Driving_flag', 'Passport_flag', 'PERFORM_CNS.SCORE',\n",
        "       'PRI.NO.OF.ACCTS', 'PRI.ACTIVE.ACCTS','PRI.OVERDUE.ACCTS', 'PRI.CURRENT.BALANCE', \n",
        "       'PRI.SANCTIONED.AMOUNT','PRI.DISBURSED.AMOUNT', 'SEC.NO.OF.ACCTS','SEC.ACTIVE.ACCTS',\n",
        "       'SEC.OVERDUE.ACCTS', 'SEC.CURRENT.BALANCE','SEC.SANCTIONED.AMOUNT',\n",
        "       'SEC.DISBURSED.AMOUNT', 'PRIMARY.INSTAL.AMT','SEC.INSTAL.AMT',\n",
        "       'NEW.ACCTS.IN.LAST.SIX.MONTHS', 'DELINQUENT.ACCTS.IN.LAST.SIX.MONTHS',\n",
        "       'NO.OF_INQUIRIES','age', 'loan_age','avg_accage','avg_credage']]\n",
        "\n",
        "y = df['loan_default'] \n",
        "\n",
        "X1 = df_test[['UniqueID', 'disbursed_amount', 'asset_cost', 'ltv', 'branch_id','supplier_id', 'manufacturer_id', 'Current_pincode_ID', \n",
        "       'Employment_Type', 'State_ID', 'Employee_code_ID','MobileNo_Avl_Flag', 'Aadhar_flag', 'PAN_flag', 'VoterID_flag',\n",
        "       'Driving_flag', 'Passport_flag', 'PERFORM_CNS.SCORE',\n",
        "       'PRI.NO.OF.ACCTS', 'PRI.ACTIVE.ACCTS','PRI.OVERDUE.ACCTS', 'PRI.CURRENT.BALANCE', \n",
        "       'PRI.SANCTIONED.AMOUNT','PRI.DISBURSED.AMOUNT', 'SEC.NO.OF.ACCTS','SEC.ACTIVE.ACCTS',\n",
        "       'SEC.OVERDUE.ACCTS', 'SEC.CURRENT.BALANCE','SEC.SANCTIONED.AMOUNT',\n",
        "       'SEC.DISBURSED.AMOUNT', 'PRIMARY.INSTAL.AMT','SEC.INSTAL.AMT',\n",
        "       'NEW.ACCTS.IN.LAST.SIX.MONTHS', 'DELINQUENT.ACCTS.IN.LAST.SIX.MONTHS',\n",
        "       'NO.OF_INQUIRIES','age', 'loan_age','avg_accage','avg_credage']]\n",
        "\n",
        "      "
      ],
      "execution_count": 0,
      "outputs": []
    },
    {
      "cell_type": "markdown",
      "metadata": {
        "id": "VFS6mXTurHBz",
        "colab_type": "text"
      },
      "source": [
        "# **Spliting into train and test**"
      ]
    },
    {
      "cell_type": "code",
      "metadata": {
        "id": "cq1dycLjFmXj",
        "colab_type": "code",
        "colab": {}
      },
      "source": [
        "X_train_im, X_test_im, y_train_im, y_test_im= train_test_split(X,y, test_size=0.3, random_state=0)"
      ],
      "execution_count": 0,
      "outputs": []
    },
    {
      "cell_type": "code",
      "metadata": {
        "id": "CmXN6hUuF0FI",
        "colab_type": "code",
        "outputId": "6ff6cb49-e15f-4c83-84b0-3944eb6f8269",
        "colab": {
          "base_uri": "https://localhost:8080/",
          "height": 68
        }
      },
      "source": [
        "#Initialising Random Forest model\n",
        "rf_clf=RandomForestClassifier(n_estimators=100,n_jobs=100,random_state=0, min_samples_leaf=100)\n",
        "\n",
        "#Fitting on data\n",
        "rf_clf.fit(X_train_im, y_train_im)\n",
        "\n",
        "#Scoring the model on train data\n",
        "score_rf=rf_clf.score(X_train_im, y_train_im)\n",
        "print(\"Training score: %.2f \" % score_rf)\n",
        "\n",
        "#Scoring the model on test_data\n",
        "score_rf=rf_clf.score(X_test_im, y_test_im)\n",
        "print(\"Testing score: %.2f \" % score_rf)\n",
        "\n",
        "y_pred_rf = rf_clf.predict(X_test_im)\n",
        "print(y_pred_rf)\n"
      ],
      "execution_count": 0,
      "outputs": [
        {
          "output_type": "stream",
          "text": [
            "Training score: 0.78 \n",
            "Testing score: 0.78 \n",
            "[0 0 0 ... 0 0 0]\n"
          ],
          "name": "stdout"
        }
      ]
    },
    {
      "cell_type": "code",
      "metadata": {
        "id": "wIgGSO7eCaqe",
        "colab_type": "code",
        "outputId": "bac5f497-a3f9-4520-d8fd-39da5712f81b",
        "colab": {
          "base_uri": "https://localhost:8080/",
          "height": 153
        }
      },
      "source": [
        "test_d = pd.DataFrame({\"predicted\": y_pred_rf})\n",
        "test_d.info()"
      ],
      "execution_count": 0,
      "outputs": [
        {
          "output_type": "stream",
          "text": [
            "<class 'pandas.core.frame.DataFrame'>\n",
            "RangeIndex: 69947 entries, 0 to 69946\n",
            "Data columns (total 1 columns):\n",
            " #   Column     Non-Null Count  Dtype\n",
            "---  ------     --------------  -----\n",
            " 0   predicted  69947 non-null  int64\n",
            "dtypes: int64(1)\n",
            "memory usage: 546.6 KB\n"
          ],
          "name": "stdout"
        }
      ]
    },
    {
      "cell_type": "code",
      "metadata": {
        "id": "QDHCHS2DEbz-",
        "colab_type": "code",
        "outputId": "0bdc38e7-3585-4f6b-c8fd-4f1d60e98441",
        "colab": {
          "base_uri": "https://localhost:8080/",
          "height": 68
        }
      },
      "source": [
        "test_d['predicted'].value_counts()"
      ],
      "execution_count": 0,
      "outputs": [
        {
          "output_type": "execute_result",
          "data": {
            "text/plain": [
              "0    69880\n",
              "1       67\n",
              "Name: predicted, dtype: int64"
            ]
          },
          "metadata": {
            "tags": []
          },
          "execution_count": 263
        }
      ]
    },
    {
      "cell_type": "code",
      "metadata": {
        "id": "YROy4aBX-wTN",
        "colab_type": "code",
        "outputId": "6e4b21d4-31f8-40e5-bc7c-de6d9e5f9aa6",
        "colab": {
          "base_uri": "https://localhost:8080/",
          "height": 85
        }
      },
      "source": [
        "generate_model_report(y_test_im,y_pred_rf)"
      ],
      "execution_count": 0,
      "outputs": [
        {
          "output_type": "stream",
          "text": [
            "Accuracy =  0.7835361059087594\n",
            "Precision =  0.7014925373134329\n",
            "Recall =  0.0030986286919831223\n",
            "F1 Score =  0.00617000328191664\n"
          ],
          "name": "stdout"
        }
      ]
    },
    {
      "cell_type": "code",
      "metadata": {
        "id": "4lza8ONU_Agh",
        "colab_type": "code",
        "outputId": "00c6ae2d-f4e6-448e-dfbc-081fb27ec3b6",
        "colab": {
          "base_uri": "https://localhost:8080/",
          "height": 281
        }
      },
      "source": [
        "y_pred_proba = rf_clf.predict_proba(X_test_im)[:, 1]\n",
        "fpr, tpr, thresholds = roc_curve(y_test_im,  y_pred_proba)\n",
        "auc = roc_auc_score(y_test_im, y_pred_proba)\n",
        "plt.title('Random Forest')\n",
        "plt.plot(fpr,tpr,label=\"AUC ROC Curve with Area Under the curve =\"+str(auc))\n",
        "plt.plot([0, 1], [0, 1], linestyle='--')\n",
        "plt.legend(loc=4)\n",
        "plt.show()"
      ],
      "execution_count": 0,
      "outputs": [
        {
          "output_type": "display_data",
          "data": {
            "image/png": "[encoded data removed]",
            "text/plain": [
              "<Figure size 432x288 with 1 Axes>"
            ]
          },
          "metadata": {
            "tags": [],
            "needs_background": "light"
          }
        }
      ]
    },
    {
      "cell_type": "code",
      "metadata": {
        "id": "1i1jfyZUGBzh",
        "colab_type": "code",
        "colab": {}
      },
      "source": [
        "XTest = df_test[['UniqueID', 'disbursed_amount', 'asset_cost', 'ltv', 'branch_id','supplier_id', 'manufacturer_id', 'Current_pincode_ID', \n",
        "       'Employment_Type', 'State_ID', 'Employee_code_ID','MobileNo_Avl_Flag', 'Aadhar_flag', 'PAN_flag', 'VoterID_flag',\n",
        "       'Driving_flag', 'Passport_flag', 'PERFORM_CNS.SCORE',\n",
        "       'PRI.NO.OF.ACCTS', 'PRI.ACTIVE.ACCTS','PRI.OVERDUE.ACCTS', 'PRI.CURRENT.BALANCE', \n",
        "       'PRI.SANCTIONED.AMOUNT','PRI.DISBURSED.AMOUNT', 'SEC.NO.OF.ACCTS','SEC.ACTIVE.ACCTS',\n",
        "       'SEC.OVERDUE.ACCTS', 'SEC.CURRENT.BALANCE','SEC.SANCTIONED.AMOUNT',\n",
        "       'SEC.DISBURSED.AMOUNT', 'PRIMARY.INSTAL.AMT','SEC.INSTAL.AMT',\n",
        "       'NEW.ACCTS.IN.LAST.SIX.MONTHS', 'DELINQUENT.ACCTS.IN.LAST.SIX.MONTHS',\n",
        "       'NO.OF_INQUIRIES','age', 'loan_age','avg_accage','avg_credage']]\n"
      ],
      "execution_count": 0,
      "outputs": []
    },
    {
      "cell_type": "code",
      "metadata": {
        "id": "iYY08NMB96SY",
        "colab_type": "code",
        "colab": {}
      },
      "source": [
        "y_pred_rf_test = rf_clf.predict(XTest)"
      ],
      "execution_count": 0,
      "outputs": []
    },
    {
      "cell_type": "code",
      "metadata": {
        "id": "j9k7FQO69Bnv",
        "colab_type": "code",
        "outputId": "f87c6f16-134e-47d7-e6e8-d5a870ad6245",
        "colab": {
          "base_uri": "https://localhost:8080/",
          "height": 68
        }
      },
      "source": [
        "test_default = pd.DataFrame({\"predicted\": y_pred_rf_test})\n",
        "test_default['predicted'].value_counts()"
      ],
      "execution_count": 0,
      "outputs": [
        {
          "output_type": "execute_result",
          "data": {
            "text/plain": [
              "0    112384\n",
              "1         8\n",
              "Name: predicted, dtype: int64"
            ]
          },
          "metadata": {
            "tags": []
          },
          "execution_count": 268
        }
      ]
    },
    {
      "cell_type": "markdown",
      "metadata": {
        "id": "VQjtVDWlryNH",
        "colab_type": "text"
      },
      "source": [
        "#Now, Training model with under sampling"
      ]
    },
    {
      "cell_type": "code",
      "metadata": {
        "id": "jDhL5gSHtcNM",
        "colab_type": "code",
        "colab": {}
      },
      "source": [
        "df_1 = pd.concat([X, y.reindex(X.index)], axis=1)"
      ],
      "execution_count": 0,
      "outputs": []
    },
    {
      "cell_type": "code",
      "metadata": {
        "id": "BcP2jfhpo3oF",
        "colab_type": "code",
        "outputId": "042466a8-86c8-4c2e-ccbb-b7cfe26c9477",
        "colab": {
          "base_uri": "https://localhost:8080/",
          "height": 221
        }
      },
      "source": [
        "df_1['avg_accage'].astype(float)\n",
        "df_1['avg_credage'].astype(float)"
      ],
      "execution_count": 0,
      "outputs": [
        {
          "output_type": "execute_result",
          "data": {
            "text/plain": [
              "0          0.000000\n",
              "1         10.916667\n",
              "2          0.000000\n",
              "3         10.250000\n",
              "4          0.000000\n",
              "            ...    \n",
              "233149    30.250000\n",
              "233150     0.500000\n",
              "233151     0.000000\n",
              "233152     0.000000\n",
              "233153     0.000000\n",
              "Name: avg_credage, Length: 233154, dtype: float64"
            ]
          },
          "metadata": {
            "tags": []
          },
          "execution_count": 270
        }
      ]
    },
    {
      "cell_type": "code",
      "metadata": {
        "id": "Q2szOcLONHBH",
        "colab_type": "code",
        "outputId": "c02198a7-ce9f-45d8-e8cc-72429e1b2482",
        "colab": {
          "base_uri": "https://localhost:8080/",
          "height": 816
        }
      },
      "source": [
        "df_1.info()"
      ],
      "execution_count": 0,
      "outputs": [
        {
          "output_type": "stream",
          "text": [
            "<class 'pandas.core.frame.DataFrame'>\n",
            "RangeIndex: 233154 entries, 0 to 233153\n",
            "Data columns (total 40 columns):\n",
            " #   Column                               Non-Null Count   Dtype  \n",
            "---  ------                               --------------   -----  \n",
            " 0   UniqueID                             233154 non-null  int64  \n",
            " 1   disbursed_amount                     233154 non-null  int64  \n",
            " 2   asset_cost                           233154 non-null  int64  \n",
            " 3   ltv                                  233154 non-null  float64\n",
            " 4   branch_id                            233154 non-null  int64  \n",
            " 5   supplier_id                          233154 non-null  int64  \n",
            " 6   manufacturer_id                      233154 non-null  int64  \n",
            " 7   Current_pincode_ID                   233154 non-null  int64  \n",
            " 8   Employment_Type                      233154 non-null  int64  \n",
            " 9   State_ID                             233154 non-null  int64  \n",
            " 10  Employee_code_ID                     233154 non-null  int64  \n",
            " 11  MobileNo_Avl_Flag                    233154 non-null  int64  \n",
            " 12  Aadhar_flag                          233154 non-null  int64  \n",
            " 13  PAN_flag                             233154 non-null  int64  \n",
            " 14  VoterID_flag                         233154 non-null  int64  \n",
            " 15  Driving_flag                         233154 non-null  int64  \n",
            " 16  Passport_flag                        233154 non-null  int64  \n",
            " 17  PERFORM_CNS.SCORE                    233154 non-null  int64  \n",
            " 18  PRI.NO.OF.ACCTS                      233154 non-null  int64  \n",
            " 19  PRI.ACTIVE.ACCTS                     233154 non-null  int64  \n",
            " 20  PRI.OVERDUE.ACCTS                    233154 non-null  int64  \n",
            " 21  PRI.CURRENT.BALANCE                  233154 non-null  int64  \n",
            " 22  PRI.SANCTIONED.AMOUNT                233154 non-null  int64  \n",
            " 23  PRI.DISBURSED.AMOUNT                 233154 non-null  int64  \n",
            " 24  SEC.NO.OF.ACCTS                      233154 non-null  int64  \n",
            " 25  SEC.ACTIVE.ACCTS                     233154 non-null  int64  \n",
            " 26  SEC.OVERDUE.ACCTS                    233154 non-null  int64  \n",
            " 27  SEC.CURRENT.BALANCE                  233154 non-null  int64  \n",
            " 28  SEC.SANCTIONED.AMOUNT                233154 non-null  int64  \n",
            " 29  SEC.DISBURSED.AMOUNT                 233154 non-null  int64  \n",
            " 30  PRIMARY.INSTAL.AMT                   233154 non-null  int64  \n",
            " 31  SEC.INSTAL.AMT                       233154 non-null  int64  \n",
            " 32  NEW.ACCTS.IN.LAST.SIX.MONTHS         233154 non-null  int64  \n",
            " 33  DELINQUENT.ACCTS.IN.LAST.SIX.MONTHS  233154 non-null  int64  \n",
            " 34  NO.OF_INQUIRIES                      233154 non-null  int64  \n",
            " 35  age                                  233154 non-null  int64  \n",
            " 36  loan_age                             233154 non-null  int64  \n",
            " 37  avg_accage                           233154 non-null  object \n",
            " 38  avg_credage                          233154 non-null  object \n",
            " 39  loan_default                         233154 non-null  int64  \n",
            "dtypes: float64(1), int64(37), object(2)\n",
            "memory usage: 71.2+ MB\n"
          ],
          "name": "stdout"
        }
      ]
    },
    {
      "cell_type": "code",
      "metadata": {
        "id": "g1f6i8pyDsxJ",
        "colab_type": "code",
        "outputId": "047d40e3-092e-4783-e8fd-74fb05accd76",
        "colab": {
          "base_uri": "https://localhost:8080/",
          "height": 535
        }
      },
      "source": [
        "minority_class_len = len(df_1[df_1.loan_default == 1])\n",
        "print(minority_class_len)\n",
        "\n",
        "majority_class_indices = df_1[df_1['loan_default'] == 0].index\n",
        "print(majority_class_indices)\n",
        "\n",
        "minority_class_indices = df_1[df_1['loan_default'] == 1].index\n",
        "print(minority_class_indices)\n",
        "\n",
        "random_majority_indices = np.random.choice(majority_class_indices,\n",
        "                                           minority_class_len, \n",
        "                                           replace=False)\n",
        "print(len(random_majority_indices))\n",
        "\n",
        "under_sample_indices = np.concatenate([minority_class_indices,random_majority_indices])\n",
        "under_sample = df_1.loc[under_sample_indices]\n",
        "sns.countplot(x='loan_default', data=under_sample)"
      ],
      "execution_count": 0,
      "outputs": [
        {
          "output_type": "stream",
          "text": [
            "50611\n",
            "Int64Index([     0,      2,      5,      6,      7,      8,      9,     11,\n",
            "                16,     17,\n",
            "            ...\n",
            "            233144, 233145, 233146, 233147, 233148, 233149, 233150, 233151,\n",
            "            233152, 233153],\n",
            "           dtype='int64', length=182543)\n",
            "Int64Index([     1,      3,      4,     10,     12,     13,     14,     15,\n",
            "                18,     19,\n",
            "            ...\n",
            "            233095, 233098, 233100, 233104, 233105, 233110, 233120, 233121,\n",
            "            233122, 233128],\n",
            "           dtype='int64', length=50611)\n",
            "50611\n"
          ],
          "name": "stdout"
        },
        {
          "output_type": "execute_result",
          "data": {
            "text/plain": [
              "<matplotlib.axes._subplots.AxesSubplot at 0x7f183cfb7240>"
            ]
          },
          "metadata": {
            "tags": []
          },
          "execution_count": 272
        },
        {
          "output_type": "display_data",
          "data": {
            "image/png": "[encoded data removed]",
            "text/plain": [
              "<Figure size 432x288 with 1 Axes>"
            ]
          },
          "metadata": {
            "tags": [],
            "needs_background": "light"
          }
        }
      ]
    },
    {
      "cell_type": "code",
      "metadata": {
        "id": "yUDDFAV5vhCP",
        "colab_type": "code",
        "colab": {}
      },
      "source": [
        "US_X = under_sample[['UniqueID', 'disbursed_amount', 'asset_cost', 'ltv', 'branch_id','supplier_id', 'manufacturer_id', 'Current_pincode_ID', \n",
        "       'Employment_Type', 'State_ID', 'Employee_code_ID','MobileNo_Avl_Flag', 'Aadhar_flag', 'PAN_flag', 'VoterID_flag',\n",
        "       'Driving_flag', 'Passport_flag', 'PERFORM_CNS.SCORE',\n",
        "       'PRI.NO.OF.ACCTS', 'PRI.ACTIVE.ACCTS','PRI.OVERDUE.ACCTS', 'PRI.CURRENT.BALANCE', \n",
        "       'PRI.SANCTIONED.AMOUNT','PRI.DISBURSED.AMOUNT', 'SEC.NO.OF.ACCTS','SEC.ACTIVE.ACCTS',\n",
        "       'SEC.OVERDUE.ACCTS', 'SEC.CURRENT.BALANCE','SEC.SANCTIONED.AMOUNT',\n",
        "       'SEC.DISBURSED.AMOUNT', 'PRIMARY.INSTAL.AMT','SEC.INSTAL.AMT',\n",
        "       'NEW.ACCTS.IN.LAST.SIX.MONTHS', 'DELINQUENT.ACCTS.IN.LAST.SIX.MONTHS',\n",
        "       'NO.OF_INQUIRIES','age', 'loan_age','avg_accage','avg_credage']]\n",
        "\n",
        "US_y = under_sample['loan_default'] "
      ],
      "execution_count": 0,
      "outputs": []
    },
    {
      "cell_type": "code",
      "metadata": {
        "id": "Onr7ciob9qiM",
        "colab_type": "code",
        "colab": {}
      },
      "source": [
        "X_train_us, X_test_us, y_train_us, y_test_us= train_test_split(US_X,US_y, test_size=0.3, random_state=0)"
      ],
      "execution_count": 0,
      "outputs": []
    },
    {
      "cell_type": "code",
      "metadata": {
        "id": "u5GbyIoI980a",
        "colab_type": "code",
        "outputId": "1f3eb23f-fa50-4b54-c007-045084dd68c7",
        "colab": {
          "base_uri": "https://localhost:8080/",
          "height": 136
        }
      },
      "source": [
        "#Initialising Random Forest model\n",
        "rf_clf=RandomForestClassifier(n_estimators=100,n_jobs=100,random_state=0, min_samples_leaf=100)\n",
        "\n",
        "#Fitting on data\n",
        "rf_clf.fit(X_train_us, y_train_us)\n",
        "\n",
        "#Scoring the model on train data\n",
        "score_rf=rf_clf.score(X_train_us, y_train_us)\n",
        "print(\"Training score: %.2f \" % score_rf)\n",
        "\n",
        "#Scoring the model on test_data\n",
        "score_rf=rf_clf.score(X_test_us, y_test_us)\n",
        "print(\"Testing score: %.2f \" % score_rf)\n",
        "\n",
        "y_pred_rf = rf_clf.predict(X_test_us)\n",
        "print(y_pred_rf)\n",
        "\n",
        "generate_model_report(y_test_us,y_pred_rf)\n"
      ],
      "execution_count": 0,
      "outputs": [
        {
          "output_type": "stream",
          "text": [
            "Training score: 0.64 \n",
            "Testing score: 0.60 \n",
            "[1 1 0 ... 1 1 1]\n",
            "Accuracy =  0.6048671254980735\n",
            "Precision =  0.5939872273767924\n",
            "Recall =  0.6520933924201336\n",
            "F1 Score =  0.6216855314184823\n"
          ],
          "name": "stdout"
        }
      ]
    },
    {
      "cell_type": "code",
      "metadata": {
        "id": "nwDgb3D4_jvA",
        "colab_type": "code",
        "outputId": "7bf7add8-68fd-43d5-aacb-0608d0d67442",
        "colab": {
          "base_uri": "https://localhost:8080/",
          "height": 281
        }
      },
      "source": [
        "y_pred_proba = rf_clf.predict_proba(X_test_us)[:, 1]\n",
        "fpr, tpr, thresholds = roc_curve(y_test_us,  y_pred_proba)\n",
        "auc = roc_auc_score(y_test_us,  y_pred_proba)\n",
        "plt.title('Random Forest')\n",
        "plt.plot(fpr,tpr,label=\"AUC ROC Curve with Area Under the curve =\"+str(auc))\n",
        "plt.plot([0, 1], [0, 1], linestyle='--')\n",
        "plt.legend(loc=4)\n",
        "plt.show()\n",
        "\n"
      ],
      "execution_count": 0,
      "outputs": [
        {
          "output_type": "display_data",
          "data": {
            "image/png": "[encoded data removed]",
            "text/plain": [
              "<Figure size 432x288 with 1 Axes>"
            ]
          },
          "metadata": {
            "tags": [],
            "needs_background": "light"
          }
        }
      ]
    },
    {
      "cell_type": "markdown",
      "metadata": {
        "colab_type": "text",
        "id": "FRx0MK2_VQ6Q"
      },
      "source": [
        "#Now, Training model with over sampling"
      ]
    },
    {
      "cell_type": "code",
      "metadata": {
        "id": "TCkn12Lvwmcc",
        "colab_type": "code",
        "outputId": "89112fa9-b75b-4412-a245-85f0ba88c156",
        "colab": {
          "base_uri": "https://localhost:8080/",
          "height": 535
        }
      },
      "source": [
        "majority_class_len = len(df_1[df_1.loan_default == 0])\n",
        "print(majority_class_len)\n",
        "\n",
        "majority_class_indices = df_1[df_1['loan_default'] == 0].index\n",
        "print(majority_class_indices)\n",
        "\n",
        "minority_class_indices = df_1[df_1['loan_default'] == 1].index\n",
        "print(minority_class_indices)\n",
        "\n",
        "random_minority_indices = np.random.choice(minority_class_indices,\n",
        "                                           majority_class_len, \n",
        "                                           )\n",
        "print(len(random_minority_indices))\n",
        "\n",
        "over_sample_indices = np.concatenate([majority_class_indices,random_minority_indices])\n",
        "over_sample = df_1.loc[over_sample_indices]\n",
        "sns.countplot(x='loan_default', data=over_sample)"
      ],
      "execution_count": 0,
      "outputs": [
        {
          "output_type": "stream",
          "text": [
            "182543\n",
            "Int64Index([     0,      2,      5,      6,      7,      8,      9,     11,\n",
            "                16,     17,\n",
            "            ...\n",
            "            233144, 233145, 233146, 233147, 233148, 233149, 233150, 233151,\n",
            "            233152, 233153],\n",
            "           dtype='int64', length=182543)\n",
            "Int64Index([     1,      3,      4,     10,     12,     13,     14,     15,\n",
            "                18,     19,\n",
            "            ...\n",
            "            233095, 233098, 233100, 233104, 233105, 233110, 233120, 233121,\n",
            "            233122, 233128],\n",
            "           dtype='int64', length=50611)\n",
            "182543\n"
          ],
          "name": "stdout"
        },
        {
          "output_type": "execute_result",
          "data": {
            "text/plain": [
              "<matplotlib.axes._subplots.AxesSubplot at 0x7f18340285c0>"
            ]
          },
          "metadata": {
            "tags": []
          },
          "execution_count": 277
        },
        {
          "output_type": "display_data",
          "data": {
            "image/png": "[encoded data removed]",
            "text/plain": [
              "<Figure size 432x288 with 1 Axes>"
            ]
          },
          "metadata": {
            "tags": [],
            "needs_background": "light"
          }
        }
      ]
    },
    {
      "cell_type": "code",
      "metadata": {
        "id": "OX5GsfQjxTtB",
        "colab_type": "code",
        "colab": {}
      },
      "source": [
        "OS_X = over_sample[['UniqueID', 'disbursed_amount', 'asset_cost', 'ltv', 'branch_id','supplier_id', 'manufacturer_id', 'Current_pincode_ID', \n",
        "       'Employment_Type', 'State_ID', 'Employee_code_ID','MobileNo_Avl_Flag', 'Aadhar_flag', 'PAN_flag', 'VoterID_flag',\n",
        "       'Driving_flag', 'Passport_flag', 'PERFORM_CNS.SCORE',\n",
        "       'PRI.NO.OF.ACCTS', 'PRI.ACTIVE.ACCTS','PRI.OVERDUE.ACCTS', 'PRI.CURRENT.BALANCE', \n",
        "       'PRI.SANCTIONED.AMOUNT','PRI.DISBURSED.AMOUNT', 'SEC.NO.OF.ACCTS','SEC.ACTIVE.ACCTS',\n",
        "       'SEC.OVERDUE.ACCTS', 'SEC.CURRENT.BALANCE','SEC.SANCTIONED.AMOUNT',\n",
        "       'SEC.DISBURSED.AMOUNT', 'PRIMARY.INSTAL.AMT','SEC.INSTAL.AMT',\n",
        "       'NEW.ACCTS.IN.LAST.SIX.MONTHS', 'DELINQUENT.ACCTS.IN.LAST.SIX.MONTHS',\n",
        "       'NO.OF_INQUIRIES','age', 'loan_age','avg_accage','avg_credage']]\n",
        "\n",
        "OS_y = over_sample['loan_default'] \n"
      ],
      "execution_count": 0,
      "outputs": []
    },
    {
      "cell_type": "code",
      "metadata": {
        "id": "LGHVQoJi__Le",
        "colab_type": "code",
        "colab": {}
      },
      "source": [
        "X_train_os, X_test_os, y_train_os, y_test_os= train_test_split(OS_X,OS_y, test_size=0.3, random_state=0)"
      ],
      "execution_count": 0,
      "outputs": []
    },
    {
      "cell_type": "code",
      "metadata": {
        "id": "zS3Da-nRAGBM",
        "colab_type": "code",
        "outputId": "a1b7746f-37ba-4ae1-81aa-2d50c77c86d4",
        "colab": {
          "base_uri": "https://localhost:8080/",
          "height": 136
        }
      },
      "source": [
        "#Initialising Random Forest model\n",
        "os_rf_clf=RandomForestClassifier(n_estimators=100,n_jobs=100,random_state=0, min_samples_leaf=100)\n",
        "\n",
        "#Fitting on data\n",
        "os_rf_clf.fit(X_train_os, y_train_os)\n",
        "\n",
        "#Scoring the model on train data\n",
        "score_rf=os_rf_clf.score(X_train_os, y_train_os)\n",
        "print(\"Training score: %.2f \" % score_rf)\n",
        "\n",
        "#Scoring the model on test_data\n",
        "score_rf=os_rf_clf.score(X_test_os, y_test_os)\n",
        "print(\"Testing score: %.2f \" % score_rf)\n",
        "\n",
        "y_pred_rf_os = os_rf_clf.predict(X_test_os)\n",
        "print(y_pred_rf_os)\n",
        "\n",
        "generate_model_report(y_test_os,y_pred_rf_os)\n"
      ],
      "execution_count": 0,
      "outputs": [
        {
          "output_type": "stream",
          "text": [
            "Training score: 0.67 \n",
            "Testing score: 0.65 \n",
            "[1 1 1 ... 1 0 1]\n",
            "Accuracy =  0.6487957197377792\n",
            "Precision =  0.6347648055849234\n",
            "Recall =  0.6936930328094338\n",
            "F1 Score =  0.6629219390795331\n"
          ],
          "name": "stdout"
        }
      ]
    },
    {
      "cell_type": "code",
      "metadata": {
        "id": "9y_ye1XTALWR",
        "colab_type": "code",
        "outputId": "5385063a-a8c3-4afe-8d91-523eb7589ca1",
        "colab": {
          "base_uri": "https://localhost:8080/",
          "height": 281
        }
      },
      "source": [
        "y_pred_proba_os = os_rf_clf.predict_proba(X_test_os)[:, 1]\n",
        "fpr, tpr, thresholds = roc_curve(y_test_os,  y_pred_proba_os)\n",
        "auc = roc_auc_score(y_test_os,  y_pred_proba_os)\n",
        "plt.title('Random Forest')\n",
        "plt.plot(fpr,tpr,label=\"AUC ROC Curve with Area Under the curve =\"+str(auc))\n",
        "plt.plot([0, 1], [0, 1], linestyle='--')\n",
        "plt.legend(loc=4)\n",
        "plt.show()"
      ],
      "execution_count": 0,
      "outputs": [
        {
          "output_type": "display_data",
          "data": {
            "image/png": "[encoded data removed]",
            "text/plain": [
              "<Figure size 432x288 with 1 Axes>"
            ]
          },
          "metadata": {
            "tags": [],
            "needs_background": "light"
          }
        }
      ]
    },
    {
      "cell_type": "code",
      "metadata": {
        "id": "69JxpGfKx5hW",
        "colab_type": "code",
        "outputId": "da1280b8-2ecb-43c6-f9eb-f2b79b0bdff7",
        "colab": {
          "base_uri": "https://localhost:8080/",
          "height": 34
        }
      },
      "source": [
        "#Parameter grid\n",
        "parameter_grid = {'max_depth': np.arange(3,10), 'min_samples_leaf': range(10,50,10)}\n",
        "\n",
        "# Code starts here\n",
        "model_2 = RandomForestClassifier(n_estimators=30, random_state = 33)\n",
        "\n",
        "p_tree = GridSearchCV(estimator=model_2,param_grid=parameter_grid,cv=5)\n",
        "\n",
        "p_tree.fit(X_train_os, y_train_os)\n",
        "\n",
        "acc_2 = p_tree.score(X_train_os, y_train_os)\n",
        "\n",
        "y_pred_hyp = p_tree.predict(OS_X)\n",
        "print('Accuracy of Grid Seacrch cv = ',acc_2)\n",
        "# Code ends here"
      ],
      "execution_count": 0,
      "outputs": [
        {
          "output_type": "stream",
          "text": [
            "Accuracy of Grid Seacrch cv =  0.6360228517764909\n"
          ],
          "name": "stdout"
        }
      ]
    },
    {
      "cell_type": "code",
      "metadata": {
        "id": "LRMqaiutham1",
        "colab_type": "code",
        "outputId": "cb35a1b4-c0a6-47ae-dc66-d6b3c46c3f43",
        "colab": {
          "base_uri": "https://localhost:8080/",
          "height": 51
        }
      },
      "source": [
        "#Scoring the model on train data\n",
        "score_rf=p_tree.score(X_train_os, y_train_os)\n",
        "print(\"Training score: %.2f \" % score_rf)\n",
        "\n",
        "#Scoring the model on test_data\n",
        "score_rf=p_tree.score(X_test_os, y_test_os)\n",
        "print(\"Testing score: %.2f \" % score_rf)"
      ],
      "execution_count": 0,
      "outputs": [
        {
          "output_type": "stream",
          "text": [
            "Training score: 0.64 \n",
            "Testing score: 0.62 \n"
          ],
          "name": "stdout"
        }
      ]
    },
    {
      "cell_type": "code",
      "metadata": {
        "id": "zhWb6oFGzgyA",
        "colab_type": "code",
        "outputId": "b739f56d-5d72-4d94-e38c-c512efbd077c",
        "colab": {
          "base_uri": "https://localhost:8080/",
          "height": 85
        }
      },
      "source": [
        "generate_model_report(y_train_os,y_pred_hyp)"
      ],
      "execution_count": 0,
      "outputs": [
        {
          "output_type": "stream",
          "text": [
            "Accuracy =  0.6360228517764909\n",
            "Precision =  0.6199843668577384\n",
            "Recall =  0.7063257717785277\n",
            "F1 Score =  0.6603447016723873\n"
          ],
          "name": "stdout"
        }
      ]
    },
    {
      "cell_type": "code",
      "metadata": {
        "id": "3xowJXd6Ckzu",
        "colab_type": "code",
        "outputId": "fd2ea0e9-50a0-4a46-e577-b32a82758f1f",
        "colab": {
          "base_uri": "https://localhost:8080/",
          "height": 281
        }
      },
      "source": [
        "y_pred_proba_hyp = p_tree.predict_proba(X_test_os)[:, 1]\n",
        "fpr, tpr, thresholds = roc_curve(y_test_os,  y_pred_proba_hyp)\n",
        "auc = roc_auc_score(y_test_os,  y_pred_proba_hyp)\n",
        "plt.title('Random Forest')\n",
        "plt.plot(fpr,tpr,label=\"AUC ROC Curve with Area Under the curve =\"+str(auc))\n",
        "plt.plot([0, 1], [0, 1], linestyle='--')\n",
        "plt.legend(loc=4)\n",
        "plt.show()\n",
        "\n"
      ],
      "execution_count": 0,
      "outputs": [
        {
          "output_type": "display_data",
          "data": {
            "image/png": "[encoded data removed]",
            "text/plain": [
              "<Figure size 432x288 with 1 Axes>"
            ]
          },
          "metadata": {
            "tags": [],
            "needs_background": "light"
          }
        }
      ]
    },
    {
      "cell_type": "markdown",
      "metadata": {
        "id": "QFqyawNyHnuI",
        "colab_type": "text"
      },
      "source": [
        "#Predicting values of test data"
      ]
    },
    {
      "cell_type": "code",
      "metadata": {
        "id": "npRH9UZAC2KM",
        "colab_type": "code",
        "outputId": "c2cd6334-fa19-4fe1-b280-e3aebb40e700",
        "colab": {
          "base_uri": "https://localhost:8080/",
          "height": 348
        }
      },
      "source": [
        "y_pred_rf_test = os_rf_clf.predict(X1)\n",
        "\n",
        "test_default = pd.DataFrame({'predicted_loan_default': y_pred_rf_test})\n",
        "print(test_default['predicted_loan_default'].value_counts())\n",
        "sns.countplot(x='predicted_loan_default', data=test_default)"
      ],
      "execution_count": 0,
      "outputs": [
        {
          "output_type": "stream",
          "text": [
            "1    72254\n",
            "0    40138\n",
            "Name: predicted_loan_default, dtype: int64\n"
          ],
          "name": "stdout"
        },
        {
          "output_type": "execute_result",
          "data": {
            "text/plain": [
              "<matplotlib.axes._subplots.AxesSubplot at 0x7f1839f061d0>"
            ]
          },
          "metadata": {
            "tags": []
          },
          "execution_count": 202
        },
        {
          "output_type": "display_data",
          "data": {
            "image/png": "[encoded data removed]",
            "text/plain": [
              "<Figure size 432x288 with 1 Axes>"
            ]
          },
          "metadata": {
            "tags": [],
            "needs_background": "light"
          }
        }
      ]
    },
    {
      "cell_type": "code",
      "metadata": {
        "id": "GO0xep1AH3v-",
        "colab_type": "code",
        "outputId": "fa6b94eb-9b22-489b-b696-03f4a8376128",
        "colab": {
          "base_uri": "https://localhost:8080/",
          "height": 348
        }
      },
      "source": [
        "y_pred_rf_test_hyp = p_tree.predict(X1)\n",
        "\n",
        "test_default_hyp = pd.DataFrame({'predicted_loan_default_hyp': y_pred_rf_test_hyp})\n",
        "print(test_default_hyp['predicted_loan_default_hyp'].value_counts())\n",
        "sns.countplot(x='predicted_loan_default_hyp', data=test_default_hyp)"
      ],
      "execution_count": 0,
      "outputs": [
        {
          "output_type": "stream",
          "text": [
            "1    72725\n",
            "0    39667\n",
            "Name: predicted_loan_default_hyp, dtype: int64\n"
          ],
          "name": "stdout"
        },
        {
          "output_type": "execute_result",
          "data": {
            "text/plain": [
              "<matplotlib.axes._subplots.AxesSubplot at 0x7f183ba49828>"
            ]
          },
          "metadata": {
            "tags": []
          },
          "execution_count": 195
        },
        {
          "output_type": "display_data",
          "data": {
            "image/png": "[encoded data removed]",
            "text/plain": [
              "<Figure size 432x288 with 1 Axes>"
            ]
          },
          "metadata": {
            "tags": [],
            "needs_background": "light"
          }
        }
      ]
    },
    {
      "cell_type": "code",
      "metadata": {
        "id": "ywJX2LBygkmj",
        "colab_type": "code",
        "colab": {}
      },
      "source": [
        "df_final = pd.concat([X1, test_default.reindex(X1.index)], axis=1)"
      ],
      "execution_count": 0,
      "outputs": []
    },
    {
      "cell_type": "code",
      "metadata": {
        "id": "FcA6EXzgjki7",
        "colab_type": "code",
        "outputId": "9adad284-8f7e-4595-e7d1-931915b64008",
        "colab": {
          "base_uri": "https://localhost:8080/",
          "height": 34
        }
      },
      "source": [
        "df_final.shape"
      ],
      "execution_count": 0,
      "outputs": [
        {
          "output_type": "execute_result",
          "data": {
            "text/plain": [
              "(112392, 40)"
            ]
          },
          "metadata": {
            "tags": []
          },
          "execution_count": 205
        }
      ]
    },
    {
      "cell_type": "code",
      "metadata": {
        "id": "I5G2k0m-keom",
        "colab_type": "code",
        "colab": {}
      },
      "source": [
        "df_final.to_csv('drive/My Drive/loan defaulter Aws/final.csv', sep='\\t', encoding='utf-8')\n"
      ],
      "execution_count": 0,
      "outputs": []
    },
    {
      "cell_type": "code",
      "metadata": {
        "id": "p51d2GwvlNfV",
        "colab_type": "code",
        "colab": {}
      },
      "source": [
        ""
      ],
      "execution_count": 0,
      "outputs": []
    }
  ]
}